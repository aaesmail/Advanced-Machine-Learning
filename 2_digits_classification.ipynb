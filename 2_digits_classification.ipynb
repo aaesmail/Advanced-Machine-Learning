{
 "cells": [
  {
   "cell_type": "markdown",
   "metadata": {
    "slideshow": {
     "slide_type": "slide"
    }
   },
   "source": [
    "# MNIST digits classification with TensorFlow"
   ]
  },
  {
   "cell_type": "markdown",
   "metadata": {},
   "source": [
    "<img src=\"images/mnist_sample.png\" style=\"width:30%\">"
   ]
  },
  {
   "cell_type": "code",
   "execution_count": 79,
   "metadata": {},
   "outputs": [
    {
     "name": "stdout",
     "output_type": "stream",
     "text": [
      "We're using TF 1.2.1\n"
     ]
    }
   ],
   "source": [
    "import numpy as np\n",
    "from sklearn.metrics import accuracy_score\n",
    "from matplotlib import pyplot as plt\n",
    "%matplotlib inline\n",
    "import tensorflow as tf\n",
    "print(\"We're using TF\", tf.__version__)"
   ]
  },
  {
   "cell_type": "code",
   "execution_count": 80,
   "metadata": {},
   "outputs": [],
   "source": [
    "import sys\n",
    "sys.path.append(\"../..\")\n",
    "import grading\n",
    "\n",
    "import matplotlib_utils\n",
    "from importlib import reload\n",
    "reload(matplotlib_utils)\n",
    "\n",
    "import grading_utils\n",
    "reload(grading_utils)\n",
    "\n",
    "import keras_utils\n",
    "from keras_utils import reset_tf_session"
   ]
  },
  {
   "cell_type": "markdown",
   "metadata": {},
   "source": [
    "# Fill in your Coursera token and email\n",
    "To successfully submit your answers to our grader, please fill in your Coursera submission token and email"
   ]
  },
  {
   "cell_type": "code",
   "execution_count": 81,
   "metadata": {
    "collapsed": true
   },
   "outputs": [],
   "source": [
    "grader = grading.Grader(assignment_key=\"XtD7ho3TEeiHQBLWejjYAA\", \n",
    "                        all_parts=[\"9XaAS\", \"vmogZ\", \"RMv95\", \"i8bgs\", \"rE763\"])"
   ]
  },
  {
   "cell_type": "code",
   "execution_count": 100,
   "metadata": {
    "collapsed": true
   },
   "outputs": [],
   "source": [
    "# token expires every 30 min\n",
    "COURSERA_TOKEN = \"g3i0ljKrVcKfuzf1\"\n",
    "COURSERA_EMAIL = \"aliadel56000@gmail.com\""
   ]
  },
  {
   "cell_type": "markdown",
   "metadata": {},
   "source": [
    "# Look at the data\n",
    "\n",
    "In this task we have 50000 28x28 images of digits from 0 to 9.\n",
    "We will train a classifier on this data."
   ]
  },
  {
   "cell_type": "code",
   "execution_count": 83,
   "metadata": {
    "collapsed": true
   },
   "outputs": [],
   "source": [
    "import preprocessed_mnist\n",
    "X_train, y_train, X_val, y_val, X_test, y_test = preprocessed_mnist.load_dataset_from_file()"
   ]
  },
  {
   "cell_type": "code",
   "execution_count": 84,
   "metadata": {},
   "outputs": [
    {
     "name": "stdout",
     "output_type": "stream",
     "text": [
      "X_train [shape (50000, 28, 28)] sample patch:\n",
      " [[ 0.          0.29803922  0.96470588  0.98823529  0.43921569]\n",
      " [ 0.          0.33333333  0.98823529  0.90196078  0.09803922]\n",
      " [ 0.          0.33333333  0.98823529  0.8745098   0.        ]\n",
      " [ 0.          0.33333333  0.98823529  0.56862745  0.        ]\n",
      " [ 0.          0.3372549   0.99215686  0.88235294  0.        ]]\n",
      "A closeup of a sample patch:\n"
     ]
    },
    {
     "data": {
      "image/png": "[encoded data removed]",
      "text/plain": [
       "<matplotlib.figure.Figure at 0x7f4c24ddc240>"
      ]
     },
     "metadata": {},
     "output_type": "display_data"
    },
    {
     "name": "stdout",
     "output_type": "stream",
     "text": [
      "And the whole sample:\n"
     ]
    },
    {
     "data": {
      "image/png": "[encoded data removed]",
      "text/plain": [
       "<matplotlib.figure.Figure at 0x7f4c24f06748>"
      ]
     },
     "metadata": {},
     "output_type": "display_data"
    },
    {
     "name": "stdout",
     "output_type": "stream",
     "text": [
      "y_train [shape (50000,)] 10 samples:\n",
      " [5 0 4 1 9 2 1 3 1 4]\n"
     ]
    }
   ],
   "source": [
    "# X contains rgb values divided by 255\n",
    "print(\"X_train [shape %s] sample patch:\\n\" % (str(X_train.shape)), X_train[1, 15:20, 5:10])\n",
    "print(\"A closeup of a sample patch:\")\n",
    "plt.imshow(X_train[1, 15:20, 5:10], cmap=\"Greys\")\n",
    "plt.show()\n",
    "print(\"And the whole sample:\")\n",
    "plt.imshow(X_train[1], cmap=\"Greys\")\n",
    "plt.show()\n",
    "print(\"y_train [shape %s] 10 samples:\\n\" % (str(y_train.shape)), y_train[:10])"
   ]
  },
  {
   "cell_type": "markdown",
   "metadata": {},
   "source": [
    "# Linear model\n",
    "\n",
    "Your task is to train a linear classifier $\\vec{x} \\rightarrow y$ with SGD using TensorFlow.\n",
    "\n",
    "You will need to calculate a logit (a linear transformation) $z_k$ for each class: \n",
    "$$z_k = \\vec{x} \\cdot \\vec{w_k} + b_k \\quad k = 0..9$$\n",
    "\n",
    "And transform logits $z_k$ to valid probabilities $p_k$ with softmax: \n",
    "$$p_k = \\frac{e^{z_k}}{\\sum_{i=0}^{9}{e^{z_i}}} \\quad k = 0..9$$\n",
    "\n",
    "We will use a cross-entropy loss to train our multi-class classifier:\n",
    "$$\\text{cross-entropy}(y, p) = -\\sum_{k=0}^{9}{\\log(p_k)[y = k]}$$ \n",
    "\n",
    "where \n",
    "$$\n",
    "[x]=\\begin{cases}\n",
    "       1, \\quad \\text{if $x$ is true} \\\\\n",
    "       0, \\quad \\text{otherwise}\n",
    "    \\end{cases}\n",
    "$$\n",
    "\n",
    "Cross-entropy minimization pushes $p_k$ close to 1 when $y = k$, which is what we want.\n",
    "\n",
    "Here's the plan:\n",
    "* Flatten the images (28x28 -> 784) with `X_train.reshape((X_train.shape[0], -1))` to simplify our linear model implementation\n",
    "* Use a matrix placeholder for flattened `X_train`\n",
    "* Convert `y_train` to one-hot encoded vectors that are needed for cross-entropy\n",
    "* Use a shared variable `W` for all weights (a column $\\vec{w_k}$ per class) and `b` for all biases.\n",
    "* Aim for ~0.93 validation accuracy"
   ]
  },
  {
   "cell_type": "code",
   "execution_count": 85,
   "metadata": {},
   "outputs": [
    {
     "name": "stdout",
     "output_type": "stream",
     "text": [
      "(50000, 784)\n",
      "(10000, 784)\n"
     ]
    }
   ],
   "source": [
    "X_train_flat = X_train.reshape((X_train.shape[0], -1))\n",
    "print(X_train_flat.shape)\n",
    "\n",
    "X_val_flat = X_val.reshape((X_val.shape[0], -1))\n",
    "print(X_val_flat.shape)"
   ]
  },
  {
   "cell_type": "code",
   "execution_count": 86,
   "metadata": {},
   "outputs": [
    {
     "name": "stdout",
     "output_type": "stream",
     "text": [
      "(50000, 10)\n",
      "[[ 0.  0.  0.  0.  0.  1.  0.  0.  0.  0.]\n",
      " [ 1.  0.  0.  0.  0.  0.  0.  0.  0.  0.]\n",
      " [ 0.  0.  0.  0.  1.  0.  0.  0.  0.  0.]] [5 0 4]\n"
     ]
    }
   ],
   "source": [
    "import keras\n",
    "\n",
    "y_train_oh = keras.utils.to_categorical(y_train, 10)\n",
    "y_val_oh = keras.utils.to_categorical(y_val, 10)\n",
    "\n",
    "print(y_train_oh.shape)\n",
    "print(y_train_oh[:3], y_train[:3])"
   ]
  },
  {
   "cell_type": "code",
   "execution_count": 87,
   "metadata": {
    "collapsed": true
   },
   "outputs": [],
   "source": [
    "# run this again if you remake your graph\n",
    "s = reset_tf_session()"
   ]
  },
  {
   "cell_type": "code",
   "execution_count": 88,
   "metadata": {
    "collapsed": true
   },
   "outputs": [],
   "source": [
    "# Model parameters: W and b\n",
    "W = tf.get_variable(\"W\", shape=(X_val_flat.shape[1], 10), dtype=tf.float32) ### tf.get_variable(...) with shape[0] = 784\n",
    "b = tf.get_variable(\"b\", shape=(10,), dtype=tf.float32)### YOUR CODE HERE ### tf.get_variable(...)"
   ]
  },
  {
   "cell_type": "code",
   "execution_count": 89,
   "metadata": {
    "collapsed": true
   },
   "outputs": [],
   "source": [
    "# Placeholders for the input data\n",
    "input_X = tf.placeholder(tf.float32, shape=(None, X_val_flat.shape[1])) ### tf.placeholder(...) for flat X with shape[0] = None for any batch size\n",
    "input_y = tf.placeholder(tf.float32, shape=(None, y_train_oh.shape[1])) ### tf.placeholder(...) for one-hot encoded true labels"
   ]
  },
  {
   "cell_type": "code",
   "execution_count": 90,
   "metadata": {},
   "outputs": [],
   "source": [
    "# Compute predictions\n",
    "logits = (input_X @ W) + b ### YOUR CODE HERE ### logits for input_X, resulting shape should be [input_X.shape[0], 10]\n",
    "probas = tf.nn.softmax(logits) ### YOUR CODE HERE ### apply tf.nn.softmax to logits\n",
    "classes = tf.argmax(probas, axis=1) ### YOUR CODE HERE ### apply tf.argmax to find a class index with highest probability\n",
    "\n",
    "# Loss should be a scalar number: average loss over all the objects with tf.reduce_mean().\n",
    "# Use tf.nn.softmax_cross_entropy_with_logits on top of one-hot encoded input_y and logits.\n",
    "# It is identical to calculating cross-entropy on top of probas, but is more numerically friendly (read the docs).\n",
    "loss = tf.reduce_mean(tf.nn.softmax_cross_entropy_with_logits(labels=input_y, logits=logits)) ### YOUR CODE HERE ### cross-entropy loss\n",
    "\n",
    "# Use a default tf.train.AdamOptimizer to get an SGD step\n",
    "step = tf.train.AdamOptimizer().minimize(loss) ### YOUR CODE HERE ### optimizer step that minimizes the loss"
   ]
  },
  {
   "cell_type": "code",
   "execution_count": 95,
   "metadata": {
    "scrolled": false
   },
   "outputs": [
    {
     "data": {
      "text/html": [
       "<img src=\"data:image/jpeg;base64,/9j/4AAQSkZJRgABAQAAAQABAAD/2wBDAAIBAQEBAQIBAQECAgICAgQDAgICAgUEBAMEBgUGBgYFBgYGBwkIBgcJBwYGCAsICQoKCgoKBggLDAsKDAkKCgr/2wBDAQICAgICAgUDAwUKBwYHCgoKCgoKCgoKCgoKCgoKCgoKCgoKCgoKCgoKCgoKCgoKCgoKCgoKCgoKCgoKCgoKCgr/wAARCAEgA2ADASIAAhEBAxEB/8QAHwAAAQUBAQEBAQEAAAAAAAAAAAECAwQFBgcICQoL/8QAtRAAAgEDAwIEAwUFBAQAAAF9AQIDAAQRBRIhMUEGE1FhByJxFDKBkaEII0KxwRVS0fAkM2JyggkKFhcYGRolJicoKSo0NTY3ODk6Q0RFRkdISUpTVFVWV1hZWmNkZWZnaGlqc3R1dnd4eXqDhIWGh4iJipKTlJWWl5iZmqKjpKWmp6ipqrKztLW2t7i5usLDxMXGx8jJytLT1NXW19jZ2uHi4%2BTl5ufo6erx8vP09fb3%2BPn6/8QAHwEAAwEBAQEBAQEBAQAAAAAAAAECAwQFBgcICQoL/8QAtREAAgECBAQDBAcFBAQAAQJ3AAECAxEEBSExBhJBUQdhcRMiMoEIFEKRobHBCSMzUvAVYnLRChYkNOEl8RcYGRomJygpKjU2Nzg5OkNERUZHSElKU1RVVldYWVpjZGVmZ2hpanN0dXZ3eHl6goOEhYaHiImKkpOUlZaXmJmaoqOkpaanqKmqsrO0tba3uLm6wsPExcbHyMnK0tPU1dbX2Nna4uPk5ebn6Onq8vP09fb3%2BPn6/9oADAMBAAIRAxEAPwD9/KKKKACiiigAooooAKKKKACiiigAooooAKKKKACiiigAooooAKKKKACiiigAooooAKKKKACiiigAooooAKKKKACiiigAooooAKKKKACiiigAooooAKKKKACiiigAooooAKKKKACiiigAooooAKKKKACiiigAooooAKKKKACiiigAooooAKKKKACiiigAooooAKKKKACiiigAooooAKKKKACiiigAooooAKKKKACiiigAooooAKKKKACiiigAooooAKKKKACiiigAooooAKKKKACiiigAooooAKKKKACiiigAooooAKKKKACiiigAooooAKKKKACiiigAooooAKKKKACiiigAooooAKKKKACvPfjt%2B1J8FP2b5NGsfil4g1Maj4ilnTQNB8OeF9R1zVNR8lVed4bHTbee5kjiVkMkixlI96biu5c%2BhV4N%2B0P8D/j5/wANJ%2BDv2tv2bLLwfrWueH/B2seFNX8KeOdcutLtLywv7mwuxcQXtraXj288U2noCpt3WVJSCUKK1ABpf/BTL9izWLvxPb2nxXv0h8FWsk/jLUrvwXrEFjoIS0iu9l5dy2iwWsrQzRskMjrJIWKorMrKL2n/APBQ/wDZK1HwBrXxFTx/q9vB4f1ay0vVdE1DwNrNrrkV5ebfscC6PNaLqEr3AYGER27eaAxTcFYjy2b9gH4y%2BMf2a/jn8NfGHinwppHin4o/FS38daHc6U1xeWFpeW0OiywQ3IkihkkiN3pRRwoyYHGDuJVaPi79i/8AaV%2BLmr/Ef45fG34S/CjWvFnjWx8KaPp/gKy%2BI2s2Wm6fY6Hcaldw3qa7b6al5DqDXOqTOksVoPJSKNFZiWcgHsviH9vv9mzwv4a8OeI9XvvG3meK0v5NE8P2vwm8SXGuSRWUscV3NJpMWntf28MLzQq8s0CIpmiy37xM%2Bmaz8RPBHhv4e3XxX8T%2BJbbSvDljo76rf6vqrfZYbSySIzPPMZdvlKsYLNvxtAOcYNfGHin9hH9s/WPgX4X8Nay3hfxV470a58RHRfGV/wDHbxNpGr%2BCLW%2BuUktLO11q1sJLzXIYkjhEy3qw/aTbReYCFGPUfjR/wTotfj1%2Bzb4n%2BHHxD%2BOfjW78d%2BMPhfH4Z17xS3jbWho818tpDE2oJoS3y2FuzzQLK3kRRSEPIBIrSM5AOkg/4KUfsZf8K58V/FbWPite6Jo3giysr7xQ/ifwdq%2Bk3NlZXkxhtb37LeWsVxJaSyK6pcxxtC3luQ%2BEYjj/AI3f8FZP2d/hn8ENU%2BMfgPRfFXiqbQfiD4X8L674Y/4QXXbHU7A6zqVrax3T2cmnNdeV5Fw88DeT5d48aW8MhknjB8r1T/gmJ8ZPHfwq8faR4i8DeG9G8Y%2BI9D0fR7DxDqv7RfjPxut3aWusW%2BoTRyf27AfsEZ8likUSzHe%2BGkxknv8A9qH9gz40/GD4g/F/4g%2BBfEPheOTxfB8LbzwlZ6tfXMSvf%2BE/EdzrUsN40dvJ5ENwGt4VljEzrl2MfyKrgHqFh/wUE/Zb1H4m2XwZh8T%2BJo/Fd5oun6xLoF38N9egudO0%2B9adILu/SSyU6dDut5VeS68pYiFEhQum6j4a/wCCmH7FPi3wZ4s%2BIWkfGC4TR/Bfgi68Zaxe6h4S1W0Fx4et0Z5tWsVntUbVLNVQ4nsxPGxZArEugbB0P9kP4ofEP4mfG74g/G9fD2gxfGj4O%2BHfCF1Y%2BE9duNRl0u4tE11Ltlnns7XzYwNViMT7FZikm6OPA3fN37Y37Kn7UOj/ALDHxS%2BJv7TF34AtIfhD%2BxT8QfBHhePwFqF5cNrzXukWxn1G6W5toBYqE0i3CWcbXAVppCZ22oKAPrPw9/wUl/Yy8TaHrHiPT/i1dQWehppU1/JqnhLVbJmtNSu1s7HUIUuLVGubCWdgovoQ9qoDO0qorMPT9E%2BLvw88R/FLX/gvofiH7T4k8LaXp%2Boa/YR2k22zgvmuBa7pinlF3%2ByzHy1cyKoRmVVkjLfJOofsz%2BIPFegeKfjb/wAFIvF/wz8J%2BBbf9nu5%2BHUlx4f8QTLay6beyQyXmq3k17BbpYOTBbCG2QzCAmT/AEiQsuOw/wCCPngP4u2f7I9r8f8A9pDUDf8AxJ%2BL15H4n8V6g9nJbtJCLSCy01fKl%2BeH/iX2lpI0TYKSzTZAYtkA%2BqqKKKACiiigAooooAKKKKACiiigAooooAKKKKACiiigAooooAKKKKACiiigAooooAKKKKACiiigAooooAKKKKACiiigAooooAK8R0j/AIKMfse6ld69Z6n8Urzw83hzw5c%2BINQk8a%2BEdV0GObSbd0jnv7WTUrWBb63R5IlaW2MqAyxjOXXPtN7FczWcsNndCCZ4mWKYx7/LYjhtp64POO9fmJq//BHL9uX4v6t4X1z43fHHQ31vw14P1Cz1DxRqHxW8TeJx4h1v7ZpV9a6idLvoobLSbaS50xfPsLIBRHJtWWQKgUA%2B2X/b/wD2YbX4aN8WNY8QeKtK0ttcg0axs9c%2BGWv2GqanfzIZIYLLTbixS9v2kQM6/Z4ZAyo7AkIxHReA/wBqz4H/ABH1%2By8J%2BHPEOqQ6vf8AhSfxJDpGteFdS0y7TTYbv7JLLLDeW8UkDrP8hhkVZe%2BzbzXk3xO%2BDn7bvxib4e/G3XPBvwq0P4h/Cjx1NrHh/wAM2vjjUr/Rdcs7jSbvTLmO4vn0qGaxmKXskkbpa3AjMQU%2BYJGxV%2BJPwG/bg1/4y%2BHf2mvA%2BjfCu08WX3ww1XwX4x0LUvFepSWGkLcX8N1a39lcJpwk1AxCN1kt5YrQSlxiWLHIB3Gk/wDBRv8AZA8R694F8LeFfiNqus6n8SfBuleLfBunaJ4H1m9nvND1F9lrqMiQWjNa2%2B7HmSTiNbcMpm8oMCdj4a/tufs3fFf4jXPwn8M%2BL9Ws9ft9LudThsvE/gzVtEW/sbeRI57uyl1G1gjv4I3liDy2zSIvmISQGUnyj9hT9hL4sfsw6/8ADjWfHniDw1dnwd%2Byl4R%2BGN%2B%2BkXM8rNq2lvM1zNF5kEe61bemxmKu235o0wK8a%2BGn/BKv9sbxP8UfC/ib9qb4w2eqRaf4A8V%2BF/GniaD4v%2BJNavPEUur2KW39p2umX0Men6EcqWNpaKUXKgTOI1WgD6l8J/8ABRf9kfxrosfirQfHeuf2Hcarpen6f4lvfh/rdrpWoy6lex2VlJaX09mlteQS3M0UYuIJHhBlQs4VgT6X4W%2BLvw88a/EDxT8LvC/iH7XrnguSzj8T2iWkwWxkuoPtEEZlZBG7tCVkKIzMiyRlgokTd8w%2BOPAnxF8K/wDBPbxp8CP%2BChnif4VeCPAWg/DSLQLb4meHfFt2GadI0trXUntLqzgTTZlmFvJDBHcXTGcoiOTtDdr/AMEr/h98WPDf7ImlfFX9oqwS3%2BJ3xYvpfHXxEhW3aL7Pf36xmG02N8yfZbGOys9pyQLXBoA%2BjaKKKACiiigAooooAKKKKACiiigAooooAKKKKACiiigAooooAKKKKACiiigAooooAKKKKACiiigAooooAKKKKACiiigAooooAKKKKACvF/j14/8A2i/%2BGi/AvwI%2BAvjPwV4fTX/BXiXXtX1Pxf4Lu9aJOnXeh28MMMdvqVj5Yb%2B1JWZmZ8%2BWgAXkn2ivC/iLrS2f/BSr4Q6LIoxe/BP4hsjd90ereDTj8mY/hSbS3LhCVR2j2b%2B7Vl7/AIQf/goX/wBHQfBn/wAMPq3/AM1FH/CD/wDBQv8A6Og%2BDP8A4YfVv/mor2aimQeM/wDCD/8ABQv/AKOg%2BDP/AIYfVv8A5qKP%2BEH/AOChf/R0HwZ/8MPq3/zUV7NRQB4z/wAIP/wUL/6Og%2BDP/hh9W/8Amoo/4Qf/AIKF/wDR0HwZ/wDDD6t/81FezUUAeM/8IP8A8FC/%2BjoPgz/4YfVv/moo/wCEH/4KF/8AR0HwZ/8ADD6t/wDNRXs1FAHjP/CD/wDBQv8A6Og%2BDP8A4YfVv/moo/4Qf/goX/0dB8Gf/DD6t/8ANRXs1FAHjP8Awg//AAUL/wCjoPgz/wCGH1b/AOaij/hB/wDgoX/0dB8Gf/DD6t/81FezUUAeM/8ACD/8FC/%2BjoPgz/4YfVv/AJqKP%2BEH/wCChf8A0dB8Gf8Aww%2Brf/NRXs1FAHjP/CD/APBQv/o6D4M/%2BGH1b/5qKP8AhB/%2BChf/AEdB8Gf/AAw%2Brf8AzUVa1/43/sifCm00jSfjp8Yfhz4c1zUNFg1A23i7xDYWl3cRyZHn7bh1dkZ0kAbplGGeCBm/8Nf/APBOD/o6L4I/%2BFto/wD8drmnjMHTk4zqxTXRyin9zkme1h%2BG%2BJMXQjWoYGvOEldSjRrSi13Uo0ZRa0eqbWm5Y/4Qf/goX/0dB8Gf/DD6t/8ANRR/wg//AAUL/wCjoPgz/wCGH1b/AOaiq/8Aw1//AME4P%2Bjovgj/AOFto/8A8dr07QNF%2BFnivQrLxT4W0nw/qWmalaR3Wnajp8EE0F1BIoeOWORAVdGUhlZSQQQQcGrpYnD121TnGVu0k/ybOfHZNnOVwjPG4WrSUnZOpTqU03vZOdOCbtrZNu2trannP/CD/wDBQv8A6Og%2BDP8A4YfVv/moo/4Qf/goX/0dB8Gf/DD6t/8ANRXnnw%2B/4KNfsX%2BL/A9n4w8Q/D3xPoM%2BqeONa8LaJo1z8HtbnvNWvdOuL%2BORbSKHT2e6Jh0%2BedliVzCAY5Nkiso7L4hftUfsteBbLx7aXmiRafrHgLwhrXiG8tvFngTVtJs7uz0xf9Lnt7qTTnF7bxM0QklskuiomjYI%2B9FfY800f%2BEH/wCChf8A0dB8Gf8Aww%2Brf/NRR/wg/wDwUL/6Og%2BDP/hh9W/%2Baiqth%2B1Z%2BxhqHxnk/Z%2BhvLf/AISi38QR6DdR/wDCDX4sIdVfTo9SjsW1BrQWizvaSpMkZlDODhQWBUbPxr%2BKvwV%2BEn7POu/tD6P4R0bxRp2l2DSabb6GttINVumlEEFrFMAUDSXDJDuJ2qzEt0NAFD/hB/8AgoX/ANHQfBn/AMMPq3/zUUf8IP8A8FC/%2BjoPgz/4YfVv/mop37OfxEs/ivc%2BM/BfxW%2BBvhrwn4u8A6/FpviHTNJ1JdVsHSaxt76C5t7uS0tXkjaK5CnfBGyywyrhlVXfzb4E/tb6z8dbSzGk/sh%2BGbC88cfDP/hPfg7b3XilSviDR/Ogjxft/Z4Ol3AW9sJHjRbtVW7wHZo2WgD0f/hB/wDgoX/0dB8Gf/DD6t/81FH/AAg//BQv/o6D4M/%2BGH1b/wCaivPfDn7Wl54%2B%2BA3we8bfDz9lXwreePPjCsp07whqPib7Npumrb2k9zdSzakunSSNEghWNCtpueSeIFEUu6ZPi79vPwb4f8CfCj4uWPwK8AnQvigNNt7Tw9qvjSO08WSahcXkdrdWWnaUthJHqj2hlRpSl1H8qyHAVVZwD1j/AIQf/goX/wBHQfBn/wAMPq3/AM1FH/CD/wDBQv8A6Og%2BDP8A4YfVv/mork/FXxx%2BIvgT9qvSPgD4j/ZI8DX2i614f8Q6/a6x4Y8YTXurRaXpiwKssunSaRDGss893aQLEt23zSuVZxG2eO/ZJ/bcvv2z/DfieT4Mfs4fCnUda0PRdE1O2Sx%2BJhu9JQ6g1x5ml397Do7SWGq2qW%2B%2BeyFvNs8%2BAGQeZkAHrv8Awg//AAUL/wCjoPgz/wCGH1b/AOaij/hB/wDgoX/0dB8Gf/DD6t/81FeYeEf2o/i/44/ZSf8Aak0D9jL4YrZWFx4km1eK/wDig9vZnS9KupoI761um0TM4ult5Z4hLFAixbGeRd%2BBbH7bfwt8T/HPwf8ABT4e/DX4eW1z4g0HQtX1KL4ieMoNA1FI9TDSR2en2ItLh9SvooEaWWDdAi%2BZAvmkyN5YB6J/wg//AAUL/wCjoPgz/wCGH1b/AOaij/hB/wDgoX/0dB8Gf/DD6t/81FcP4x/aF%2BIvw6/aOuvgr4v/AGS/h5LpKeA/EXi6DXNC8dTXN3Dp2myQR2/2q0l0aFIJLp7hVVUuJQvk3BBkEWW5Dwn/AMFBPC2tfsRv%2B2ZqHwk%2BDNzZzX%2Bi2sUXhT4rJqml6Ob%2BW2jeTWtROlRDS0tftIe4Ihn8tEZj6UAez/8ACD/8FC/%2BjoPgz/4YfVv/AJqKP%2BEH/wCChf8A0dB8Gf8Aww%2Brf/NRXjGg/t9TfET4ceHdf%2BDf7IXhPxPr%2BraN4r126srXxnGmkz6PoN9FZTXmmaiNPb%2B0BdyXEDWe6C3SZGd3kiVQW6Pwl%2B3F8GPi18f9E%2BDvwb8H/DO5sr/T9Ju7y68W%2BNYNI1W5F/YxaikWmaYLOZ9Rkisp7aeXdJAi/aEVXch9gB6J/wAIP/wUL/6Og%2BDP/hh9W/8Amoo/4Qf/AIKF/wDR0HwZ/wDDD6t/81FcF40/aj8Q/B3xf4p8I/GT9jrQvtOmfCrxH498M2XgPXxrd7qllo8trHJaTwPYW32W7nN5B5CRtcJIyzr5gMXz5PwT/b3%2BGHxX%2BDfjb4np8IfAesTeGdbsdF8PSfDHxfD4j0fxXql7BC9rp9lqJs7YG4824ihmVotkG8O77Q5QA9T/AOEH/wCChf8A0dB8Gf8Aww%2Brf/NRVDwP44/as8HftWeHPgj8bviP8PfE2jeJvh74h1yGbwr8PL7Rbq0utNvtEt0VnuNXvkljdNUlJUIjBokIbGQdH9n74ieHP2h/2OvB37Ttp8MtP8M3njL4eWPiWLTLSRJ20yW5skuREtwIojL5Zfb5mxN23O1c4pvjj/lIX8L/APsjPjz/ANO3hCgD2aiiigArzb9rL9pXSv2Rvgjq3x68R/C/xX4r0nQYZLnWrTwfDZvc2dnHFJNNduLy5t0MUaRnIVy5JUKjE4r0mvGf%2BCgnwn%2BNXx8/Y/8AHnwG%2BAmjeFrvXvG/hu90LzvF/iO50y0sobq2lia58y3srt5HQspEXlqGBP7xcDIB2Hx6%2BOnh/wCAPg608T6v4a1jXr3VdbtNH8P%2BHPD0cDX2rX9y%2B2K3h%2B0SwwqcB5GeWWONI4ndnUKTXk/iP/gpr8IND8D6d4z034U%2BP9Zmk0nXtU8T6DpGmWT3/hSy0S8%2Bw6tNfpJdohNtdbofKtXuJZzG5t0nVS1bHxs%2BGP7S/wAZvBXhLxQPB3gXR/G3gPxjpnifRNJHjS8utMv50huLa8s5rv8AsyOWBDb3U6xzrbyHeUdogFKHxq9/YD/at8M%2BGtQ1/wCHOufD%2Bfxd8QPDXjXSPiBHq%2BrXsdho8mv6xJqcV1YOlo73osfPmg8mVLb7UNjmW2IKkA%2B1NN1LT9Z0631fSb2K5tbuBJra4hcMksbAMrqRwQQQQfevnj4TeKv27/jro%2BveO/C/xv8AhJoGl2/xC8VaHpelX/wf1S/uIrXS9ev9MhaW4TxFAssjx2auzLFGu5yAoAFezW/wj8MRfB%2Bz%2BCb3%2BsR6RZ6Hb6UlxpmuXWn3ohhjWNWS6tJIpoXwg%2BeN1PXnmvHv2HPDun%2BFf2Ur3wfplzfy2dp8afHFikmparcXtzLD/wAJ5q0ZEtxcO807smQ0kjs7kksxJJoA6P8A4Qf/AIKF/wDR0HwZ/wDDD6t/81FH/CD/APBQv/o6D4M/%2BGH1b/5qKfr/AO1B/wAE/fCmu3vhbxT%2B0R8HNN1PTbuS11HTtQ8XaVDPazxsUkikjeUMjqwKsrAEEEEZFVP%2BGv8A/gnB/wBHRfBH/wALbR//AI7XK8dgU7OrD/wOP/yR70OFeKakFOGX4hppNNUK7TT1TTVBpppppptNNNNpplj/AIQf/goX/wBHQfBn/wAMPq3/AM1FH/CD/wDBQv8A6Og%2BDP8A4YfVv/mop%2BgftQf8E/fFeu2Xhbwt%2B0R8HNS1PUruO107TtP8W6VNPdTyMEjijjSUs7sxCqqgkkgAZNXv2q/iX8Kv2UP2b/Gv7SXin4XLq2n%2BCvD1xqt1pukaIJri5WJc7EWONiMnGXI2ouXcqqsw1pV6FdN05qVuzT/Js8/HZXmeVzjDG4epScldKpCdNtbXSnCDavpdJq%2Bl76Gd/wAIP/wUL/6Og%2BDP/hh9W/8Amoo/4Qf/AIKF/wDR0HwZ/wDDD6t/81FUNJ/az/Y/1zxvL8NdL8Na/L4htvDi69qGi/8ACmtdW60%2BweO7eKW6jbTw1q0v2G5WKOYJJM8YjjV3dFZ2mftOfsweJpPDv/CK6ZYIdZ8dTeFb2w8S%2BEtR0fUbG%2Bj0a61cwtZXNgJklNrbrMq3C28bwyeYsrMYo5tThLv/AAg//BQv/o6D4M/%2BGH1b/wCaij/hB/8AgoX/ANHQfBn/AMMPq3/zUVQ%2BCn7X/wCwv%2B0Fo03iP4beJtL/ALOi8P6frqX/AIi8I3eiwXOl3zMtrewSajbQLc28jqUEsRdQ%2BEJDECrv7RvxEb4V6/4P%2BGnwg%2BAHhrxd4z8bXt4mlaXrWqrpFjBa2dq1xc3M90lndOgH7mJVWFy0lxHnYgd1AHf8IP8A8FC/%2BjoPgz/4YfVv/moo/wCEH/4KF/8AR0HwZ/8ADD6t/wDNRXPa/wDtSfC2D9i3w1%2B1/wCE/gpZXg8Xjw7b6N4d1QwWfkX%2BsX9pp8EF3ciORbeOK5vEWaVVk2rHIUWQ7VbirX9txfEV9ZfCzwT%2BzN4CvPiUni7xBoHiLRr7xyttoWnT6Pa293c7NUGmvJOzQXlo6Rm0jb5pvM8oQOaAPVv%2BEH/4KF/9HQfBn/ww%2Brf/ADUUf8IP/wAFC/8Ao6D4M/8Ahh9W/wDmory7xb%2B2Nq938H/hP%2B0Z8C/2WvAPinwT8XJPC0GgjVvGsmnayJ9ZmiUotpFpFzBIttBI1xI32lfkt58AbAW6XxV8cfiL4E/ar0j4A%2BI/2SPA19outeH/ABDr9rrHhjxhNe6tFpemLAqyy6dJpEMayzz3dpAsS3bfNK5VnEbZAOs/4Qf/AIKF/wDR0HwZ/wDDD6t/81FH/CD/APBQv/o6D4M/%2BGH1b/5qK8//AGA/2zfAX7cVzr9vafB3wNaR6Loej6m1/wCDvFUWv2tu9%2BLknS72T7HbGz1W2FuDcWe2TyluIT5h34r6R8GDZoZgUnZDfXcUQJztRLmRVX6BQAPYUAeXf8IP/wAFC/8Ao6D4M/8Ahh9W/wDmoo/4Qf8A4KF/9HQfBn/ww%2Brf/NRXs1FAHjP/AAg//BQv/o6D4M/%2BGH1b/wCaij/hB/8AgoX/ANHQfBn/AMMPq3/zUV7NRQB4z/wg/wDwUL/6Og%2BDP/hh9W/%2Baij/AIQf/goX/wBHQfBn/wAMPq3/AM1FezUUAeM/8IP/AMFC/wDo6D4M/wDhh9W/%2Baij/hB/%2BChf/R0HwZ/8MPq3/wA1FezUUAeM/wDCD/8ABQv/AKOg%2BDP/AIYfVv8A5qKP%2BEH/AOChf/R0HwZ/8MPq3/zUV7NRQB4z/wAIP/wUL/6Og%2BDP/hh9W/8Amoo/4Qf/AIKF/wDR0HwZ/wDDD6t/81FezUUAeM/8IP8A8FC/%2BjoPgz/4YfVv/moo/wCEH/4KF/8AR0HwZ/8ADD6t/wDNRXs1FAHjP/CD/wDBQv8A6Og%2BDP8A4YfVv/moo/4Qf/goX/0dB8Gf/DD6t/8ANRXT/EP9q79mD4SmSP4n/tE%2BCNAljzut9W8UWkEufQRtIGJ9gM14z4j/AOCz/wDwTm0O/Oi6T8en8Q6h/BY%2BGPDWoXzSf7rRwGM/99Vw18zy3DO1WtCL85Rv917/AIH1OV8D8aZ3Dny/LMRVj3jRquNu/NyKNvPmt5nf/wDCD/8ABQv/AKOg%2BDP/AIYfVv8A5qKP%2BEH/AOChf/R0HwZ/8MPq3/zUV5iP%2BCuXgrU/3ngn9iD9pTxJA3%2BqutF%2BEsjxSD1BeZDj8KP%2BHmPxi1f5fB//AAS6%2BP07H7v9teH7fTh%2BJeVsVz/25lb%2BGpf0jN/lT/U9f/iFvHkf4uDVP/HWwsLevNi0184o9O/4Qf8A4KF/9HQfBn/ww%2Brf/NRR/wAIP/wUL/6Og%2BDP/hh9W/8AmorzH/htz/gohq3PhL/gkX4glB%2B6dZ%2BK%2Bk2B/EOjYo/4aN/4K4apzY/8E3vCOl56DU/jBazlfr5MfP4Uf2zhH8Maj9KVT9YoP%2BIa8QR/i18JD/FjsHf7o1pv8D07/hB/%2BChf/R0HwZ/8MPq3/wA1FH/CD/8ABQv/AKOg%2BDP/AIYfVv8A5qK8x/4W3/wWUl%2BZP2RvhDED0WTx9OxH1IXFH/C1f%2BCzH/RqXwc/8Lq5/wDiaP7Xpf8APmr/AOC5f5h/xDrMP%2Bhhgf8Awto//Inp3/CD/wDBQv8A6Og%2BDP8A4YfVv/moq3%2Byt8RvjT4w1j4oeBPjpr/hfVtU8A/EKLQ7PVfCfhq50m3urWXQdH1NWe3uL28ZZFk1GVCwl2lY0O1TnPk3/C3f%2BCyUHMv7IHwkn9oPH8y/%2BhLXQ/8ABOzXPjD4k1z48618ffA2meG/Fs3xmg/tbRdH1P7ZbW%2BPCPhtYtk2Bv3RCNz6FyO1dGGx9PFVHBQnHS/vQcV970v5Hj53wpi8iwqxFTFYaqm%2BW1HEU60tU3dxglJR0%2BLZOy6o%2Bk6KKK7j5cKKKKACiiigAooooAKKKKACiiigAooooAKKKKACiiigAooooA5j40aH4t8R/C3W9I8C/ErUvB%2BqyWZe08R6RZWlxc2RRg7GOO8hmgZmVWT95G4G/OCQK88/Zo8WfEr4%2B/8ABPn4Z/ELxJ8WrvRPFXi74UaBq2s%2BM7DT7Hz4bu40%2B3nublIZoWtUYs0hAaIxLu%2B4QNten/Eb4f8Ah/4qeCdQ%2BH3iq51eHTtUhEV3JoPiG90q7Chg2I7uxliuISSACY5FJBKnIJB8z079gH9mTTf2dbn9k2LRPFs/w%2Bu/DB8Oy%2BHb74oeILlV0slf9FSaW%2BaaNAqiIbHBEWYgRGShAKv7BHxG%2BJHxS%2BFuv%2BK/F/j7UPGHhxvGd3F8NPG%2Bsaba2l74j0BYLcJfSx2cMEDK139tWGWKGNJ7WO2mCnzd7eY/Fb4x%2BHdf/wCCxnwI8B6RYeIILvTfhr8R7LUJdV8J6jYWs7PL4ZmX7Lc3MEcF8o%2Bznc1s8qp8u4ruXP0r8Hvg14M%2BBfhNvBXgO98RzWBuTOo8TeM9T1yaM7Ej2JPqVxPLHEFjXESsI1O4hQWYn5h/bC1c6X/wWN/YzgLYW%2B8MfFC3Y/8Abhozgfmgrmxc/Z0ebzj%2BMor9T3OHsP8AW8z9l/07rP8A8BoVpf8Atp9kUUUV0nhhRRRQAUUUUAFFFFABRRRQAUUUUAFFFFAHmepfsyfs2/GjR9B8U/GL9nvwP4s1O38P2trBqPiXwnZ388cCqXWJZJ42YIGd2Cg4BdjjJNUv%2BGB/2Ff%2BjLPhL/4bnTP/AIxXJ/F7/gpB%2Bxf%2Bx9L4c%2BGn7Rfxl/4R3W77wpZ6na2X/CO6jd77V98Syb7W3kQZeGUbSwb5c4wQTyH/AA/N/wCCWX/R0X/lk65/8hV4uIxfDtOvKNedJTT15vZ3v53V7%2BpovEPEZUvqkc4nSVPTkWJqQUetlFV4qO%2Byit9tT1v/AIYH/YV/6Ms%2BEv8A4bnTP/jFenaBoGheFNCsvC3hbRbTTdM020jtdO07T7ZYYLWCNQkcUcaAKiKoCqqgAAAAYFfK3/D83/gll/0dF/5ZOuf/ACFX094B8deFfih4E0X4l%2BBdU%2B3aJ4i0i21PR73yHi%2B0WtxEssUmyRVdNyOp2soYZwQDxXRgcRk9aclg5U20teTlvbz5UtL9xS4uq8Sfup5jLE8mtnXnV5b6XtKrUtfa6SvtfoeE/DD9hfxX4A8eeFNa1P4z6bqGg%2BB/ih4q8X%2BGtLh8ISQXYXXf7Wee0uLk3rpKYpdVYpKkMX7uEIyFmMg8j1r/AIIwy694p8e%2BJLz47eHYrjxl4C8f%2BF/7atfheia3cx%2BJpFcXGq6ib4vqj2W0RwoFt08sbdqYDD3aw/b8%2BEer6dYzaT4U8RzX11ovi3UrvSZfsFvLpaeHL1bDUY7uSe7SCBhdukCM0vlsSWLrGruvCeDf%2BCn3gf47TfDjUfgJBZy2Ou/GfUfA3jeC/vrHUpdPNv4N1fxChtrnSr64s5XY2lgd6TzIEmmjYJKp8r0iDrpP2GA/iHVdfHxQwdT%2BOuk/EcxDRP8AV/YtI0/TfsGfP%2Bbf9g8zzsDb5u3y227m7z41/A7UP2gP2edd%2BCXj/wAYxW9/rVg0aeIND0swCyuklE1rdRQSyy5aGVIX2s7K7RnOA2B88eLf%2BCq0r/BDwp41%2BEXwp1/xHe6pB8PZPEfimXw/Bb6NoreJLvTlSC5gGpNcx3DWt75qpAbqKBpoPNmZSS30h8Yfjx4f%2BEnwC8efH260bUrmx8BeH9Y1S%2BsrjT5rSW4GnQyyyrGJ0UsreSwSVQ0bghkZlIJAOc%2BBH7PfxM%2BF2qeI/G/jr4r6D4j8T%2BOvFkWq%2BNr%2B08HS2NnLaQ6ZFYW9lY2zX0zWgX7PBK0kstzuZrgbVEqeTxH7P37C3xN%2BAEdjcab%2B0Bo%2Br3fgb4Yt4C%2BDr6j4GlEWg6R5sDg6iiagH1Wciy09HkjezDLacKrSM1b/AOy18bPj94h%2BKnib4DftKjwjc%2BItG8FeHfFdrqXgvSrmytBa6rJqUBsmjubm4d5befS5szh0WVJoyIoyGWvJJ/8AgoP%2B0Tomk3vxavvB/grUvC3iXS/iA/w60CPzdOvra78OG5NsuoahcXLW7xXsVnPI7iG3FoSiFpxukAB03wz/AGBvj78NfgZ8M/Bdl%2B074Sl8cfCTVrp/CXiyP4XXKafPptzZSWs1ne6c2sNJOxMrSiaK6hw8UHyFUkWXS1j9g34jzfArwr%2Byh4e/aB0m1%2BHOkaZpUOvi88CvP4g1K6tbtbua8g1Bb%2BOCzknlRXz9jlMTFmjIOzZ5l8Kf%2BCiP7SHxMtf%2BFbaQ/hSTxXr/AMQdD8N%2BF/EWufDDW/DsVoLzR7zV7qa70DUb0X7pFbafcLDMJ4YrqRwEZRDITqfFr9vD9pTwT%2Bx437TOk/8ACKrq/hbW/E3h7xP4bT4a6zqdrrmraNqt5pzNHqFterF4esp3sXf7ZfrNBbLcIZZP3TbwD3rUf2WrXxH8X/iR8WfFPjy8lm8deBbLwjpcWnQfZpvD%2Bmwi8eUwTb23Tyz3skplCpgQ26kN5QY%2BffCX9hj4wfDbw/4svLn9pPRv%2BEv1P4R2HgDwf4h8OfDw6ZbaJa2CXn2O9ntDfym8uUlvC52ywRYjCRxxbnJteL/2yPHr/tyeBf2evhx4d0a58E3msX%2Bh%2BNvEN5HK9wdYTRbnVI7SyZJFQeRFBCbh3WRW%2B2xxoVeKXbyn7LP7fXjHVPhd4m8f/td%2BLdK0zXtC0CLVbr4cWHwh1vw7q9mklxJBEkP9qXkv9s%2BfL5VvFJaxojzuqAlpFUAHT/HT9hDxf4x%2BCvwv/Zu%2BBPxb8O%2BFfh/8PYLS31Xwj4o8Dz61Z%2BJbWygiisLS5FvqNi4t43jEskW5luGSNZAYxJHLD8Y/%2BCfmu/Fz4jal44PxZ0PS4fG1h4Vh%2BKMEHgZpLnVJdCvnvLabTrhr3Oml3kZCJEuyirGYykgaV8v4T/tJftefE/8AZf8AEfxZ8d%2BMvhJ8L9b8F%2BNvEdn4xvdd8PX2q6TpmnadNKoQ7NStS0kaqBLdGVY28t3WFQ4VfN/jB/wVZ%2BL/AMIvBfhv4m/E3w/4Q%2BHsC/Bfw5471nwb4t0y8m1XxPc3stwNS0bSJBPB5FxYQ26SSGSG4cfbITLFAis5APqfQ/2fdU0P40/Ev49J45t7rXvG%2BiaZo2gfbNGLw6Dp9hBOYYGQTA3QN7eXty5Bh3LMkX/LISN5Vr37APxW8b6p4m%2BKnjf9onw%2BfiJrereEr2y1HQ/h1JaaDCvh67ubqzjudMk1KaW8LveTiWQ3iOQlt5ZjNuhNzVv21PiLqX7b2m/A34eeE9EvPACaJ4ht9S127eRLq/8AEGmR2ksttay%2BYIY7eAXKwzSMsmbhpY8xG1kD%2BKfBP/gqT%2B0f8R/AWoS6hoXhOTxDq9h4DXww114F1fQ4NL1HxHqz6c8ckF7dtJrdjaDbMupWbw215taOF1OWQA9PP/BN/wCJuh6XH4j%2BHn7TmnaL461JPF1v4s8Qf8IAZtPubbxFeW95drZWAv1NlLDNaQNBJJPcBWMzSpOZmItXf/BMPQNI8aW0Xwz%2BIWn6H4JuNY8E6t4i0Kfwr9q1W6u/CzWn9mfZtS%2B0oLWIpYWcUqNbzMVWXy3iaZmGNpH7YH7XfxA8eQ/sp%2BAR8Orb4o6TqPi4eIfEmqeHL6TRLy10UaM0Rt7JL9ZreS5HiHTM77mYQbLjifCZtah%2B15%2B0v4%2B0L9nL4wfBPxH4Dt9B%2BPt34cntfBGveBr261Sz0650xtX1Ob%2B0YtViiUxWMM4jY2hUTNCjbt4BALul/wDBPv4z%2BIdL%2BNeifG/9prQPEP8AwujQ9S0u/wDEOjfDq407WtLtZVkisLSK4l1W5g%2Bx2cMsqrbLbIJZJZJpGMksxk09E/4Jw6B428T6x8Sf2pviHP4k8U6jrGm39hqHwzn1fwNBpb2On3NhC8K2GqPcmZoL26jkke5YOkiIEVY1Fc38PP23fjq2u/Fu2%2BKV74as9Z8JweNrrwL8NNT%2BHGr%2BG7jVrLR9Sngsr1de1K8axv4JbZLaSaS2hCRG%2BjdmRV2vlfs8f8FH/ip428C%2BM5vGOjaVr/iSzbw/Z%2BAdNt/A%2Bq%2BELrWdX1a3meKyl0zVZp7tLaJovMbUl/cSQJdSIpFnKaAPbv2a/wBmrTf2PP2IfDX7MWl%2BMNQ8QReCfAi6U2tanc3Ekl68VuVeUC4nneGNmyUgEjJChWOPCIoEfjj/AJSF/C//ALIz48/9O3hCm/sufGTx3%2B0H%2Bwx4b%2BM/xOt9Ji8Q%2BIfBkl1rCaDaywWQuNkiv5McssrohK5CtI5GeWNO8cf8pC/hf/2Rnx5/6dvCFAHs1FFFABRRRQAUUUUAFeC/sf8A/JvWr/8AZe/HP/qwNVr3qvBf2P8A/k3rV/8Asvfjn/1YGq0AdZr/AOxN%2Bxl4r1298U%2BKf2R/hjqWp6ldyXWo6jqHgHTpp7qeRi8kskjwlndmJZmYkkkknJqp/wAMD/sK/wDRlnwl/wDDc6Z/8Yrzvx//AMFlP%2BCbnwv8d638NPHX7R32HW/Dur3OmaxZf8IhrEv2e6t5Wilj3x2jI%2B10YblYqcZBI5rI/wCH5v8AwSy/6Oi/8snXP/kKvBnjeGFNqU6N7u9/Z3v1vpve9zT/AIibiaH7pZ5OPLpb63VVraWt9YVrWtayta1lay9m0D9ib9jLwprtl4p8Lfsj/DHTdT027jutO1HT/AOnQz2s8bB45Y5EhDI6sAyspBBAIORWt%2B018E7L9pP9nTx3%2Bz3qGvy6TD438I6hob6rBAJXs/tVu8ImCEgOULhtpIDbcZGc1414B/4LKf8ABNz4oeO9F%2BGngX9o77drfiLV7bTNHsv%2BEQ1iL7RdXEqxRR75LRUTc7qNzMFGckgc17j8dfjD4c/Z9%2BD3iP43%2BMtM1G60bwrpUup6ymlQpJPFZxDdPMFd0DLHGHlYZztjbaGbCn0MDWy2tCTwcoNJ68nLa/nypa27ky4kqcSfvZ414nk0u6sqvLfW15VKlr72TV97dTyPxF%2BxN8QvH%2Bg/F2Xx78fbWLxJ8W/h3pvhm%2B1rwn4Vm02HTZLMaiFuYopL6eRkcX4DRGYHETYkHmDZw3wR/wCCU0Xwi8RQ%2BJofiT4QsNvxcHjl9B8BfC%2BPQNIgYeEbzw4bO2tUvJTCG%2B1C7aVnkZnRlI%2BcOnovxn/4KIfB34LaX4u1zVPDep6hY%2BCvFtn4b1jUR4g0HSrR7%2B402LUQkNxq%2BpWcMmyCeAMA%2B/fMFRX2SFORtf8Ago7pPinx9Hf%2BCbi0uPAWueDPhJrvhHVYtCknvLr/AITDxBq2mlZke7hWOMRWdmVYAvA0kzslzhYK7iTq/gb%2BxR4h%2BAUfgS78I/Fyyub/AMDfA3Svh1by6h4Xdobv7HJAxvmjS7Vl3rCwEIc7C4PmNt2t1n7RvwC8cfFTxB4P%2BJnwf%2BJ%2BneEfGfgm9vH0rVNa8NPq9jPa3lq1vc209ql1au4P7mVWWZCslvHnehdG8w8G/wDBRo/Ez9orwf4I8IfB/wATWXgHxH4K8Wa/aeLNU0JZ28Qw6TcadDHPpcdlczTmN/tUreVPbpPMGgaFCCc%2Bk/tSfGj4gfD3RvAvhb4OJpEPij4k%2BN7fw7oWoeJ9LnuLLTc2V5qE9zPaxzW8s221sLgLEJYiZGQFlGaAKfh39ljWPAX7Ltr%2Byt4M8U%2BF9Q0PTPA9hoVj/wAJ34JbWI7yePcLu51CBbyCO7juE25gQQ7HMjb3V1RPO7P/AIJrxeG/2eX%2BC/hG9%2BEj3mreMpvEniOfxN8D4dR0ZLt4Et4jpmki/ij0428ENtFAXkuNqQfOJWdnPQ6V%2B118U3/YJ8a/tHv8O7LWPHHgX/hK9MvtE0eG4FnqGp6HqV9pss0MYMk628slkZxEDJKsb7Mu4yeT%2BCP7ZnxH%2BPXg/wCJmj%2BCv2mvhBdX/wAMNQsrvUPilpfga9vvDOo6PPp5umaO2TWVZJYZEnjeRb2aMeQcqHZo4gD0jwr%2BxR4T8FXvwN0Tw/4ruP8AhE/gToFza%2BH9AvLUSzXuoHT49NtdRluNwG%2BKzk1FCvlnzHvy%2B5PL2vq6j%2By1a%2BI/i/8AEj4s%2BKfHl5LN468C2XhHS4tOg%2BzTeH9NhF48pgm3tunlnvZJTKFTAht1Ibygx8H8Z/tO/wDBQLTP%2BCeXgj9qnT/EPwt0rx34o0XTBB4N1f4ZanPHqWr6zew2%2BkWa7Ncjey/4%2B7VLgMbkowmcEKu2u/8AHf7YnxGsP21/hz%2Bzt8P9C0S%2B8J3/AIlu/DnxE8RXVvN5yav/AMI7qGsw2ljtlCo0UdlC9wZBINl/AiHeshQA2P2Tv2PvGfwC8YXPj34kfFvR/E2pJ4B0TwZpKeHPBR0K2h0vTHungaeI3dz59yzXT5dWjiVQBHDHufd7J4P/AOQTN/2Fb7/0rlrUrL8H/wDIJm/7Ct9/6Vy0AalFFFABRRWf4m8V%2BFvBWjy%2BIfGXiXT9JsIRma%2B1O8SCGMf7TuQo/E0m1FXbsi6dOpVmoU4tyeiSTbb7JJNt%2BSTNCivmj4i/8FeP2CfAmrf8Ivonxm/4TXW2JFvovw%2B0yfWZpyOyPbq0JP1kFc8P27P24Pi4dn7NH/BMvxZb2cv%2Br1z4s67beH1iHZjaEvLID6K2a8yedZapOMKnPLtBOb/8kTS%2BbR9zh/DPjapRjXxGE%2BrU3qp4mdPDRa7r286cpL/DTl9%2Bh9cUEgDJOAOpr5I/4VB/wWH%2BLvz%2BPv2svhl8K7WXrafDvwXJq84T%2B60uosAr44LJwDyKD/wSO8F/EH95%2B1N%2B1h8ZPikkn/Hzo%2BteNJLPSpPXFrahCmfZ6n6/jqv8HCy9ZuMF915y/A1/1S4WwH/Izz2jdbxw1OtiZeily4ej8%2Bdo9W%2BMP/BQP9ij4CNLb/FX9pvwjp11BnztOh1Vbu8THrb2%2B%2BUf9815Sv8AwV08BeOeP2bP2TvjZ8TYX/1GseH/AAFJBpr%2Bmbi5ZCue2Ur2D4O/sK/sdfAJYm%2BEn7NvhDSLiHHl6iujxz3gx0zczB5j%2BL16vR7HOq3x1YU12jFyf3zaX/kof2h4ZZdph8BiMXL%2BavXjQg/%2B4eGhOfydbyfc%2BSv%2BGqv%2BCpPjzj4c/wDBNDTfDlu/%2Bq1Lx38ULTn/AHra3TzF/Oj/AIRf/gtd45%2BbWPil8AvAsL/cXQdE1LU7iMf7X2kiMt9OK%2BtaKP7LqT/i4mrL0kor/wAkgvzF/r3g8P8A7jkuCpecqVSvL78RiJK//blvI%2BSv%2BGHv2/8Axn/yVj/gq/4lEL/etPBXw907RzGPRZkZnP1IzSH/AII7fArxV/yXr9oD41fE1H/11r40%2BJdy9u3qAluIiq%2B2a%2BtqKP7DyyX8SDn/AI5Tl%2BEp2/AP%2BIo8b0v90xEcN/2D0MNQa9JUsOpr1VRPzPCfh5/wTE/4J9/C5Y/%2BET/ZH8FM8WPLm1jSV1KRSO4e8MrZ985r2bw34S8KeDbAaV4Q8MafpVqv3bbTbKOCMf8AAUAFaFFd1DCYTCq1GnGPpFL8kj5fNOIeIM8nzZljKtd/9PKtSf8A6XOS%2B5IKKKK6DxwooooAKKKKACvGf2X/APkt/wC0d/2Wax/9QrwvXs1eM/sv/wDJb/2jv%2ByzWP8A6hXhegD2aiiigAooooAKKKKACiiigAooooAKKKKACiiigAooooAKKKKACiiigAooooAK%2BE/%2BCjGp/wBi/wDBWf8AYh1PdjNx45tc/wDXaLRYsf8Aj1fdlfnl/wAFdNTOi/8ABST9hzVN2B/wnOr2xPtNf%2BHov/Zq83N5cmXzl2cf/S6Z9r4d0PrXGGHo/wA8a6%2B/C4v/ACP0Nooor0j4oKKKKACiiigAooooAKKKKACiiigAooooAyvA3/Ik6P8A9gu3/wDRa1q1lDwZoaZWBr6FMkiK31a5jRfZVWQKo9gAKX/hD9J/5%2B9V/wDB5d//AB2gDUorL/4Q/Sf%2BfvVf/B5d/wDx2j/hD9J/5%2B9V/wDB5d//AB2gDw/xB/wTT/Z88S%2BI/jN4l1DV/Ewl%2BNunW1nrlumow%2BTogiUlpNNQwkQNNORczCXzUlmVSylfkL/BX/BO74c%2BFvF0fxC8QfGLx94p8QH4nSeO7zWPEF7p/mXept4Vn8L%2BWyWtlDEluLCcsscSR4mRGzs3Rt7b/wAIfpP/AD96r/4PLv8A%2BO0f8IfpP/P3qv8A4PLv/wCO0AfOX/DqT4MWfhfQPAPhz4z/ABI0jw7pFj4Qh1TQdO1PTxB4gm8NNanTLu8Z7FpRNtsrZJfs7wRypEoZPlXH0DrHw60jxb4H134dfEK%2BufEek%2BIob621K11SOFQ1ldB1ezHkRxgxLG5jUtmQqBvd2yxuf8IfpP8Az96r/wCDy7/%2BO0f8IfpP/P3qv/g8u/8A47QB5n8Dv2PdL%2BBcmpazp3xz8d%2BINf1SHRbG68UeJp9NnvjpGlSSvaaSPLso4vsw%2B0XYZzGbljeTOZ/MKyLy1/8A8Ey/gNr0/ifTPF/izxfrPhjxFpPifT7LwVe6lbJp3h9PEMjSavJYtDbx3KyTO8hVpppvIErpAIkYrXuv/CH6T/z96r/4PLv/AOO0f8IfpP8Az96r/wCDy7/%2BO0AeISf8E8PCGow6j4h8UftA/EfWPHV5qmj31j8Tb%2BfSV1jSn0tblbNLeOHT0sfLVb2/VlktZPNF9OJN%2B4bZdd/4J%2B%2BGdX%2BC0f7PGnftD/EnSfB97p%2Bp2vjLStOudJ3%2BLW1K5nudRnvbiXT3nimuZbq6aR7OS1I89tmzCbfav%2BEP0n/n71X/AMHl3/8AHaP%2BEP0n/n71X/weXf8A8doA8j8Rf8E4v2LNf%2BPHhL9pWL9nbwfpvjLwhr0usW2t6X4T06K51C6e0ktle7nNuZpjH5glRt6sssUb7jtwTTP2Dfhfruuarr/7SPi7WfjZJqmgR6J9k%2BKulaNdWVtp63cd4YFtLPT7a3k3XEFvKZJo5JN1tCQ42CvXP%2BEP0n/n71X/AMHl3/8AHaP%2BEP0n/n71X/weXf8A8doA%2Bbrz/gkf%2BzZpPw4/4VT8GPEOu/DPRJfidJ46v7DwHpGhW9vqF%2BXaSC2ube40yaCe0tnMbwwvGdjQQksxjXHpXxM/ZPl%2BMej6L4R%2BJf7RPj3VPDtlaW0HiXw2yaNDa%2BLDDKJd%2BoNDpyTLvZVEkdpJbRSICjRlGZT6P/wh%2Bk/8/eq/%2BDy7/wDjtH/CH6T/AM/eq/8Ag8u//jtAHjfiz/gmb%2Bw74v8AjrY/tF3P7N/g%2By8U20es/b9Q0rwrYW0urzaoirc3N3MkAnlnwJCsokVwZ5SSS5rG0X/gmV8LbPwnd%2BHfE/xr%2BIviK8TQ9E0jwt4h1nUNOF94XtdIvVv9OFkbexijaSK6jhmMt1HcSSmFFlaRAVPvv/CH6T/z96r/AODy7/8AjtH/AAh%2Bk/8AP3qv/g8u/wD47QB4de/8E6PAb%2BHNPTQvjt8RtG8XWuo61d6j8StLvdNXW9WOr%2BX/AGhFcF7FrURyi3tAFht4vJ%2BxW/kmLyxXeeGP2VfhR4N8d%2BBPG3hm3vbSH4aeA7nwl4L0COZDYadYzmyDyKhQuZhHp9vCrlztj8xQP3jE9r/wh%2Bk/8/eq/wDg8u//AI7R/wAIfpP/AD96r/4PLv8A%2BO0AeP8Ajf8AYL8DfGDXtd1L9oD4veN/H2nax4Z13w/Y%2BHden063stG0/V4xDexW39n2VtM7NABCslxJPIiZ2sGd2aPQ/wDgnb8ANUl1nUP2kbeX45ahrcelw3GofGPRNI1PyYNNW9FlFFBDYwWyGI6lqDCXyjMxvJt0jAgD2T/hD9J/5%2B9V/wDB5d//AB2j/hD9J/5%2B9V/8Hl3/APHaAPPfgn%2BzH8JP2O/2V4/2e/gjoEeneHtB0W7W2RbW3heZ3V3eWUW8caNIzMSWCDPes/xx/wApC/hf/wBkZ8ef%2BnbwhXqJ8GaG%2BFna%2BmTIJiuNWuZEb2ZWkKsPYgivLvHH/KQv4X/9kZ8ef%2BnbwhQB7NRRRQAV5h%2B1t8ZPGXwY%2BGFhffDWz0yXxL4k8YaL4a0CTW4JJbK1uNQv4bY3U8cUkbyxwxySTeUskZlMQjDx796%2Bn1xvx4%2BCXhr9oH4dS/DvxNrGp6Xt1Kx1PS9a0SaOO90vULK6iu7S7gaWOSPfHPDG22RHjcAo6OjMpAPE7/8AbH%2BM/hn9kP4ifEjXfD3h698c/DfxvN4W1u%2BsNNuk0YBb62i/tlrbzpJ0tYbK7jvp4BMzIIZoxMcCWvLrj/gqH8S9V8BSWvgHxh4M8R3ml/GibwRqnxI8G/DfWPEem39uPDceuxXmnaDp1899eBvtEVq5guZkjMM1wSYhx9M/Dn9lgfCn4e6t4G8F/HrxxBda5JeXupeJpV0mXUJtWurp7ifVSXsDD55LiMReV9lSKKNEgULXMS/8E/PBsenadq2h/HT4gaZ45sfFl54juPihaz6W%2Bs6jf3VkthObiOawksHja0it4FjW0VI0tYPLCGMGgDqPgB%2B0lpvjf9jzwd%2B1J8btZ8NeFINY8GWOteIrw67CNL09poUdz9pd9ixhmxlnO37pYkZPF/sM%2BJ/DXjX9li48YeDfENjq%2Bkap8b/Gl3pmq6ZdpcW13byePtVaOWKVCVkRlIYMpIIIINewfBP4QeD/AIA/CfQfg34BW6/snw9p6WlpJf3JmuJsZLyyyHG%2BR3LOzYALOSABxXnn7D1haan8Bdfsb6ASRSfGX4jBlJI/5nbWiDkcgg4II5BFAHtlFZX/AAh%2Bk/8AP3qn/g8u/wD47S/8IfpP/P3qv/g8u/8A47QBqVU17QtH8UaHe%2BGfEWmxXmn6jaSWt9Z3Cbo54ZFKPGw7qykgj0NVv%2BEP0n/n71X/AMHl3/8AHaP%2BEP0n/n71X/weXf8A8doA%2BfvBP/BMH4UfDT4R%2BA/hh8PPjV8R9K1D4fa3qeqaX45XU9PudbvJb9JoroXUlzZSQSbopvKV1hSWNIYhG6bSTY8Df8ExPgH8P/DXh7wroni3xhJbeGvDXw80Owa71K2eR7bwbqt3qmltI32cbpJZ7yVbhuA6KgjELAu3vP8Awh%2Bk/wDP3qv/AIPLv/47R/wh%2Bk/8/eq/%2BDy7/wDjtAHiHw2/4J3eBfhT8RNL%2BIHhL46/ERV8L%2BG9d0LwHoVxeabJYeFrPVZraaZLRDY75TE9pB5JunuNipsO5Plr0j45/APRPjv4N0vw5q/jTXdE1TQNatdY8PeLNAe1XUdM1CAMq3MQnglt2LRyTROkkLxvHNIpTB46f/hD9J/5%2B9V/8Hl3/wDHaP8AhD9J/wCfvVf/AAeXf/x2gDi/ht%2BzbYfCL4YQ/Cv4e/FXxVYWqadq63Gok2E15dapqV015ca1I8toym9%2B0y3EwAUWxe5k3QOBGE5m5/YV8Aa78FfiD8HfHfxP8ZeI5viq23x/4u1S5sY9U1a38iK2Nofs1pFbQW5tYvs/lwwRjZLKwxLI8p9a/wCEP0n/AJ%2B9V/8AB5d//HaP%2BEP0n/n71X/weXf/AMdoAwPib8C/B/xX8ReBde8T3l%2BkXgDxR/b%2Bk6XaSRpa3V4tlc2kX2hShLpELp5UVWTEscTnOwCuH8d/8E7v2NviB8ffCn7T2p/s%2B%2BEbXxx4T8Vv4ii8RWHhTTkvNTvTZXFqjXlwbczTiPzxOh3qyz28Dhv3eD6v/wAIfpP/AD96r/4PLv8A%2BO1j%2BO9Q%2BF/wu8LXXjj4k%2BPDoGjWKb7zVNY8VT28EI/2nkmAGewzyelKUowi5SdkjSjRrYirGlSi5Sk0kkm229Ekkm230STb6I6ysrwf/wAgmb/sKX3/AKVy18g6h%2B3140/aJ1Wbwh/wTZ/Z88SfEJIpmhuviP4r1u/0rwxaMDglZJJFlvCpGCkYVsEEbhV%2Bw/4J7/tX/HO0jX9tH9uXW00ph8/gH4PxHRNMUE5aOS6YG4u0JJz5gDd91eT/AGtGvpg6cqv95WjD/wADlo/%2B3VL1P0D/AIh9UypKfEmMpYDr7OXNVxNv%2BwaleUG%2Bnt6lHzikeyfH/wDb7/Y7/ZhaS0%2BNHx/0DTNQj4OiW1ybzUCew%2By24eYZPAJUD3ryQf8ABRD9pr44n7P%2Bxh/wT58Z6vZy8ReLviXcR%2BHNN29po0kLS3Mf%2B5tb24r179n/APYM/ZA/ZfWOf4KfAPQNKvoumtTWxutQJ7k3U5ebk84DY9q9do9hm%2BI/i1VTXamrv/wOf6QF/a3h3k2mAy%2BpjZr7eKqezp%2Bqw%2BGadvKpiX5rv8ij9mr/AIKlfHM%2Bf8ev24tB%2BHGnS8y%2BHPg34Z3SYPb%2B0L0%2BdGwHXaCM/hWj4Z/4I5fsaR6vF4p%2BMtr4v%2BK2txcjWPid4wutSkJ75jDJEwPoyGvqmsvxT428GeB7H%2B0/Gvi7S9Htuf8ASNUv47dP%2B%2BpGAo/sbLV79de0a61JOX4SfKv/AAFGVbxQ4vo0pQwNeGCp2ty4WnTwyt2c6cfatd%2Bau79blH4dfCL4U/CDSf7B%2BFHwz0DwzZYA%2ByaBo8NnGceqxKoP410VeK%2BKP%2BCj/wCwP4Ou/sOu/tg/DwTA4aO08UW9yUPo3ks20/XFZEv/AAVV/wCCdUKGR/2vvBhA/u6iWP5Bc1uswyqiuRVqaS6c0Fb5Jn5riuIcBiK8quJxkZTe7lVjKTfm5VJNv1bPoGivmq7/AOCwv/BNSyfy5v2s9AY/9MrS7kH5rCRUX/D5H/gmd/0dhov/AILL7/4xU/2zlC/5iKf/AIHH/M5HxBkK/wCYul/4Mh/8kfTVFfL2of8ABaH/AIJj6ZbNd3H7VmmOq9Vt9D1KZj9FS2JP5Vlj/gtJ%2BxxqvzeAtG%2BJPipD9yXw98N9QkV/p5iJUvO8nTt9Yh8pJ/lciXEeQRdvrVN%2Bkk390eZ/gfWtFfJX/D2vQtQ48J/sB/tO6zn7sll8JWEf1LPOMD8KP%2BHkf7Qus/L4L/4JXfG2dj9z%2B3La000H6mSRsUv7byx/DNv0jN/lTF/rFk7%2BGo5ekKj/ACpH1rRXyS37V3/BU3xl/ovgb/gl9p/h8N93U/GPxbsGjX/egt08z8jQunf8Fv8AxD/p8/iP9m7w6j/csIbPWrt4x/tu3ylv93ij%2B16Uv4dKrL0pyX/pTgH9u0Z/wqFafpSkv/S3A%2BtqK%2BSj8Iv%2BCy/iP/RdY/a9%2BEXhuM9brw94BnvJR9FumC0g/YL/AG5fE3zfE3/grR44uC/%2BsXwr4I03RgPZTEXx9aP7RxUvgwtR%2BvJH85t/gH9rY2f8PBVX/idOH51G/wAD62or5K/4dVa7MPtN5/wU0/ala5bmR4PiiscRPtGLfC/TNB/4JMabrB8nx7%2B39%2B0t4gtRwLC9%2BKRSFh/tCOAFj75FH1vNHthf/KsP/kQ%2Bv509sF99an%2BkT61or5KH/BFf9itR5yz/ABCF03Mt8PiNqPnSH1Y%2BZjP4Uf8ADn34RaV8/wAPv2qv2gPCcg%2B7J4f%2BKs6EH/tpG9H1nOFvhov0qr9YIPrefR3wkX6Vl%2BtNI%2BtaK%2BSh/wAEz/jTZfu9H/4Kk/HxI14jF7rlvcsB7s0Q3H3o/wCGCP23/D/7z4ff8FavHltIOVPiPwVpurLn3WQrke1H17MFvhJfKdN/qg/tLNV8WBl8qlJ/rE%2Bta8Z/Zf8A%2BS3/ALR3/ZZrH/1CvC9eX/8ACmP%2BCyHg3nw3%2B2l8K/Ge37o8X/Dp9O3/AF%2BwscfhXR/8E6m%2BOj618eT%2B0rH4VTxsPjNANbHgk3J0s48I%2BGxCYPtP73Bh8otu/jLY4xXRhsZOvNwlRnB7%2B8lb71KSudWEx9TFVHCeHqU3a95KNvTmjOSv5WPpOiiiu09EKKKKACiiigAooooAKKKKACiiigAooooAKKKKACiiigAooooA5j40aH4t8R/C3W9I8C/ErUvB%2BqyWZe08R6RZWlxc2RRg7GOO8hmgZmVWT95G4G/OCQK8BT9pr4y23/BJfwH%2B0iviWCXx74r%2BG/g9p/EF1p8XlwanrA0%2B2k1BoEVYiI5bxrgxBVj%2BTbgLxX0V8Rvh/wCH/ip4J1D4feKrnV4dO1SERXcmg%2BIb3SrsKGDYju7GWK4hJIAJjkUkEqcgkHgvBH7En7OfgD4It%2Bzfo3hrXbzwOfDL%2BH18OeIfHWsatBHppAUQJ9uu5WQIoCxspDRKqrGyqAAAZv7InjX4l3fiv4sfBT4m/Ea%2B8ZTfDfx5baXpfivVbGzt72%2BtLrRNM1NUulsYILfzo5L2WPMUMYMSwkruLM3xd/wWP%2BJ3hvxF%2B2x%2Bzvb6RpviGC8%2BH/iC9vL%2B41XwjqNjaOTrvhZA1tdXMEcF6oyctbvIFyu4jcuf0N%2BDHwL%2BGnwA8NXXhX4ZaVfQw6hqcmo6peavrt5ql9qF26IjT3N5fTTXFzJ5cUUYaWRiqRRoMKiqPhP/AIL1f6DqngXxX0/sHwPreobv7u3xV4ITP/kSvJz3/kTV32i39zi/0P0Dwp18Scqh/PWjD/wZGrT/APch%2BjVFFFesfn4UUUUAFFFFABRRRQAUUUUAFFFFABRRRQAUUUUAFFFFABRRRQAUUUUAFFFFABRRRQAUUUUAFFFFABRRRQAUUUUAFFFFABXjPjj/AJSF/C//ALIz48/9O3hCvZq8Z8cf8pC/hf8A9kZ8ef8Ap28IUAezUUUUAFFFFABRRRQAV4z%2Bwf8A8kQ1z/ss3xH/APU11uvZq8Z/YP8A%2BSIa5/2Wb4j/APqa63QB7NRRRQAUUUUAFFFFABRRRQAVFfX1lpllNqWpXkVvb28TSTzzyBEjRRlmZjwAACSTwK8R/a2/b9%2BDH7KE9p4Ku4b7xb4/1hceHvh14Wj%2B0anesQSHdRkW8PBJlkwNqsVDlSK%2BHfix%2B0R4J/aC8TQj/go1%2B0kl5ZSXAfR/2X/gNcS6tLO4ORFql5ZkieYYGYvMRQwDKycrXiZhnuEwU3Si1Ka31SjH/FJ7f4UpTfSPU%2BvwnDGFweWQzjiTFwy/Az%2BCVTWrXto1hqF1Orrp7R8lGL3qSacT6e8ef8FJvEvxj8X3nwV/4Jr/AAsT4o%2BIbSXyNW8cXsjQeFNCb%2B9LdjH2pgOfLhPzDlWYgrT/AAN/wTFt/iD4ntvjL/wUT%2BL938ZPE9oxns9DvU%2BzeGNGbutvYLhJcD5S8oIcAFkzzXOeAfif/wAFBfHXhKz%2BHn7FP7Bnhf4G%2BCrWLy9N1f4qTiCaKI9THpNkN8Uvf96WVmPJ6mtqH/glXqXxpmXV/wBvv9rXx18WnZg8nhe0uzoXh9T1wLOzYFiOgfepIHIrzIqvj5KdSnKu%2BnMvZ0V6Rl70/WUJPskYV/FKpgKUsJwNgJ4am008RNqOIqJ6PmryipU4tf8ALvCUqUbOzq1NW/S/if8A8FBf2CP2adKGieMP2jPBelrp0Iji0HRL1Lu4gVRhY1tbMO6DjAG0CvM4v%2BCgv7Vvx%2BkCfsTfsDeJL/Sn5Txr8VLxfD%2BnyL2eGBt01yh7MpBHdfT274PfsT/sj/AExT/B/wDZy8IaHdQY8vUbbRImvBjpm4cNKfxY16hXsfVs2r6Vasaa7U1d/wDgU72%2BUD88lh8%2BxsnLEYhU091TTcn61Kl36tQv5nyT/wAIx/wWw8ef8hj4ofAPwFA/3f7A0XUtUuYx/tfaiIy304oH7Cf7eHi8%2Bb8Vv%2BCsXjBy3PkeDfAunaMsfsGjLFh7kZr62op/2Ph5fxKlSfrUn%2BUXBB/YOFn/ABqtWf8Aiqz/ACi4L8D5Jb/glRquuDy/H3/BR39pTVoG/wBfZQ/EVbWCYf3WSODkewIrT8K/8EZ/%2BCeHh%2B%2B/tvXvghN4q1NsedqfjDxFfajLL/vLJN5Z/wC%2BK%2Bo6KayTKU7uipP%2B9eX/AKVKQ48O5Gpc0sPGT/vXn/6XKf5HmnhX9i/9kDwPa/Y/CP7LXw805CMMbXwbZKz/AO83lZb6kmteL9nD9niFxLD8BfBaMOjL4WtAR/5DrtKK7Y4TCwVo04r/ALdj/wDInoxwWCgrRpRS8ox/%2BRMC0%2BFHwtsE8qx%2BGugQr/di0aBR%2Bi1L/wAK3%2BHf/QhaL/4K4f8A4mtqitPZUl9lfcv8jVUaK%2ByvuX%2BRl2HgjwZpVyLzS/COl20y/dlt7CNGH4hc1qUUVSjGOyLjGMVZKwUUUUxhRRRQAUUUUAFFFFABRRRQAUUUUAFeM/sv/wDJb/2jv%2ByzWP8A6hXhevZq8Z/Zf/5Lf%2B0d/wBlmsf/AFCvC9AHs1FFFABRRRQAUUUUAFFFFABRRRQAUUUUAFFFFABRRRQAUUUUAFFFFABRRRQAV%2BfH/BdnR/7c8JS2WzOz4D%2BLrjH/AFy8UeBZc/8AjlfoPXxD/wAFeNH/ALc/tGy2btn7L3xKuMf9ctS8IS5/8crzs3h7TKcRHvCf/pMj7Lw6xH1TxByev/LisO//ACtS/wAz7L8F6x/wkPg7Sdf3bvt2mQXG713xq39a064P9ljWP%2BEh/Zh%2BHGv79327wHo9xu9d9lC2f1rvK7KE/aUIT7pP70n%2Bp83mmH%2Bp5piMP/JUqR/8BnOP/toUUUVqcIUUUUAFFFFABRRRQAUUUUAFFFFABRRRQAUUUUAFFFFABRRRQAUUUUAFFFFABRRRQAUUUUAFFFFABRRRQAUUUUAFeM%2BOP%2BUhfwv/AOyM%2BPP/AE7eEK9mrxnxx/ykL%2BF//ZGfHn/p28IUAezUUUUAFeIft/eJPEWhfBPRtI0TxXqWgWniT4l%2BFfD%2Bv65o%2BoSWd1Z6dfa1aW1wIrmJle2eZZPswmRleP7RuRkcKw9vrN8Y%2BDPB/wARPC1/4H%2BIHhTTdd0TVLZrfU9H1ixjurW8hYYaOWKQFJEI6qwINAHyn4Qi/aB8cfsa/Ff4X/Bfx/r2q6j4X%2BK%2BpaB4S1m98VSf2rqOi2uqW7XdhHqlw5k%2B1iI3%2BmxXcsnmJJFGzy70aSvE7D4v/tT%2BK5ov2bfCvhHxpZ6BfftN3/hbS9P8UfGe6tdUXTLfwVFrLadd%2BJbGW%2BukI1L7YWe2luJV%2BzfY/M2pKV%2B9bf8AZr/ZztPBb/De1%2BAPgqLw7Jof9iyaBH4Vs1sm03zGk%2BxGAR%2BWbfe7v5WNm52OMkmkvf2aP2cdS%2BEsHwD1H9n/AME3HgS2Km28FTeFLN9JiKyGRdtmY/JXDkuMLwxz15oA5j9m7402Xjf9jvwz8YPh18OPFerodAAtPDMviGLUNVnkgdoHhF/qF0iXbb43xczTjzlAkLZesj/gnTq1/r37N19req%2BGL7RLm8%2BLfxDmuNH1OSB7mxdvGetEwytbyywl0J2kxyOmQdrMME%2B1aFoWieF9Es/DXhrR7XTtO0%2B1jtrDT7G3WGC2hRQqRRogCoiqAAoAAAAFeR/sH/8AJENc/wCyzfEf/wBTXW6APZqKKKACiiigAoor50/b5/4KY/s/fsC%2BFQfGt8dc8X30G/Q/BOlzr9ruc8LJKcEW8OePMYEnB2K5BFc%2BKxeGwNCVavNRit2/61fZK7ZnVqwoxTl1aSSTblJu0Yxik5SlJtKMYxlKTaSTZ7v408a%2BD/hz4VvvHPj/AMUWGi6NpkBm1DVNUu0gt7aMfxO7kKoyQOT1IFfEmv8A7dX7Vf8AwUG8RXXwt/4Jg%2BFW0DwbBcm21/49%2BLtOaO2jwfnTTbeRcyybQACylhvG5IRtlrF%2BDX7HH7VH/BSrXNP/AGhP%2BCn2oXOi%2BBoZheeD/gXpMklpb9P3c%2BoAHeW2k4Vz5p3nJiTMTfffhrwz4c8GaBZ%2BFPB/h%2By0rS9Pt1gsNN021SC3tolGFjjjQBUUDgAAAV48ZY/OVzLmo0H8qk1/7ji//A2v5Tnr0M0nVdKqvYJbq6dT0fK5RpvulKdRbXg07fEHws/4IEfsx6Pq954x/aG%2BK/jz4n67q7%2BZr9xq2uSWVvqUmdxaRYG898tz8879q%2BuPgz%2Bzf8A/2d9H/sH4HfB/w94Wt2QLKdG0uOGScDvLIBvlPu7E%2B9drRXfg8oyzL3fD0Yxfe13/AOBO7/Et4ShLFvFVE51nZOpNyqVGkrJc9SU52S0SUkktFFLQKKKK9E6QooooAKKKKACiiigAooooAKKKKACiiigAooooAKKKKACiiigAooooAKKKKACiiigArxn9l/8A5Lf%2B0d/2Wax/9QrwvXs1eM/sv/8AJb/2jv8Ass1j/wCoV4XoA9mooooAKKKKACiiigAooooAKKKKACiiigAooooAKKKKACiiigAooooA8i/b6%2BIXjT4UfsUfFP4kfDzWZNM1nRfA2o3Vlq8MYZ9NKwNuvFDAqTAu6YbgVzHyCMivIvB3jK%2B%2BBHhr9qLwZoXxn8WXPhP4a%2BG4NW0LxPrmsXXifUdCuZdAa7uokmvZpJrvywkF4kEkjc3u1SsbRqv1re2VnqVnLp2o2kVxb3ETRzwTRh0kRhhlZTwQQSCDwQa5HwB%2Bzl%2Bz18KNIs9A%2BFvwI8GeGrDT2umsLLQPC9pZw2xuQouDGkMaqhlCIJMAbwi7s4FAHzX/AMEwNS%2BNehfEvx18Kvjfr1%2Bb%2B3%2BH/gvxBa6M3xQ1DxlaRrfLqscl%2BmpaiFnhmuZLNg9iim2hW1ikhkl%2B0SFaH7dGu%2BJPiB8a/E/gDVvhB4h0S0tP2Uvitb6druqXOnPaa15k3hkF7Vba7lnQIQuftEUB%2Bddob5sfVfwn%2BBHwP%2BAulXehfAz4NeFPBdjf3P2m%2Bs/Cfh2206K4m2hfMkS3RA77QBuIJwAK8f8A2n9H/wCEh/aq8NaBt3fbv2dPiXb7fXffeE1/rWGKh7TC1Id4yX3xkv1PVyLEfU88wmI/kq0pf%2BA1acv/AG06X/gnXq/9ufsE/Bq%2B3bivwz0WEn1MVnFGf1SvZq%2BcP%2BCROsf25/wTb%2BEl7uzs8Ntb5/65XM0X/slfR9c%2BVz9pldCXeEP/AEmJ63HmH%2BqcdZrQ/lxWIX/ler/mFFFFd58oFFFFABRRRQAUUUUAFFFFABRRRQAUUUUAFFFFABRRRQAUUUUAFFFFABRRRQAUUUUAFFFFABRRRQAUUUUAFFFFABXjPjj/AJSF/C//ALIz48/9O3hCvZq8Z8cf8pC/hf8A9kZ8ef8Ap28IUAezUUUUAFFFFABRRRQAV4z%2Bwf8A8kQ1z/ss3xH/APU11uvZq8Z/YP8A%2BSIa5/2Wb4j/APqa63QB7NRRRQAUkkiRI0srhVUEszHAA9TSkgDJNfm//wAFCP26rH9oTSvFHwz%2BHPjW90b4I%2BEroaf8T/H%2BhsDd%2BK79vueGdFPSWSXpLKMqE3M37oYm87M8yoZZh/aT1bvZbXsrv0SWspPRLu2k8/8Aa6%2BLo4HA0ZV8VXkqdKlDWdSb2S7Jbyk7RhFOTasbn7en/BZGDwvo%2Bs%2BA/wBiuW11a5065Gn638TZoPtGl6bduPls7BOmp37fwRpmNfvsSiyNHm/8ExP%2BCTeu6X4vT9tz9upLzXfiDqlyNR0XQvEM5uZtNkOCt3es3%2Bsu8Y2R/dgAHHmY8vvv%2BCf/APwT2vLXVNC/ae/aa%2BH%2BmaJqek2m34XfCnT486d4Ds2wwdlb/X6jJw0s75ffyTuA8v7Yrw8BleJzPExx%2BZ621p09ox/vOL69ua8usrO0Y/a16GX8E05YXDVo4nM2nGtiYa0qCaalh8F5WbhXxn8St71OjKlh%2BZ1iiiivrT44KKKKACiiigAooooAKKKKACiiigAooooAKKKKACiiigAooooAKKKKACiiigAooooAKKKKACiiigArxn9l/wD5Lf8AtHf9lmsf/UK8L17NXjP7L/8AyW/9o7/ss1j/AOoV4XoA9mooooAKKKKACiiigAooooAKKKKACiiigAooooAKKKKACiiigAooooAKKKKACvFviDbxXf8AwUC%2BGdrOuUl%2BC3j1HHqDqvhAGvaa8Z8cf8pC/hf/ANkZ8ef%2BnbwhQNNp3R5p/wAEQ7iUf8E1PAWjXL7ptKvdbspj7pq94QPyYV9Y18l/8Eaf9B/Ze8TeE%2Bn9g/FzxNp%2B3%2B7tvS%2BP/IlfWleVkX/Ilw67QS%2B66/Q%2B%2B8Vkv%2BIl5xNfaxFSf/gxxqf%2B5Aooor1T4AKKKKACiiigAooooAKKKKACiiigAooooAKKKKACiiigAooooAKKKKACiiigAooooAKKKKACiiigAooooAKKKKACvGfHH/KQv4X/APZGfHn/AKdvCFezV4z44/5SF/C//sjPjz/07eEKAPZqKKKACvn7/gpcdMH7Ndr/AMJp5f8AwhX/AAsLwv8A8LI%2B0f8AHv8A8I9/bNp9t%2B1Z4%2Bx%2BX/x87v3f2bz/ADP3e%2BvoGigD4L8EWnwv8ffsBfFr4X/D/wCMvgrwt4Ej8d6lq3gJtW1qO10Q%2BEYdYikeJ2Rv3Oh3U8GoWYmjBhFrMfKDRhFPlFv/AML78Wfsb/Ffwd8Lv2dLPWPgx4m%2BJWsTQ2PwO8Q6YdGsvC8HhvTTLZ6ZLqU%2Bmpcafdayl8s80EYDoL9Y4sTxOP1LooA8U/ZA8Q/EK/8A%2BCfvwx17wj8OYovEP/CsdG%2BweHvFetJZxu62cKqJrmzS9ESMo3hkSUgMoKhsha3/AATpuPEt3%2BzdfXXjLSbGw1eT4t/ENtTsdM1F7u2t5z4z1rzI4p3hhaZA2QHaKMsACUXOB7pXjP7B/wDyRDXP%2ByzfEf8A9TXW6APZqKK8C/4KL/tPeIv2cfgQulfCm2%2B2/Enx7qUfhr4b6XHgvLqVz8gnwf4IVJkLH5dwRWwGrDFYmlhMPKtU2ir%2Bfkl3bdkl1bRzY3F0cBhZ4ir8MVfzfZJdW20kuraR5D%2B31%2B09rHxs8X69%2BxP8C/iEvhvQtA0pr/8AaA%2BKkb/ufCmjBSz2MLj717OgZdoyVBK4J3mPn/8Agnv%2ByzpH7QfiDwv%2B1B4m%2BG7eGPhJ4EhMH7PPw3u4%2BRHnLeIr1T/rLqdh5iM2TyHycJI3D/Bv9lzw78cvGVn/AME%2BPhtfyX3wt%2BGuqRax%2B0b43SVzJ498WEiRtOMxO6SNZV3SZJKhApKsiM/6XWVlZaZZQ6dp1pFb29vEscEEEYRI0UYVVUcAAAAAcACvl8vwlXNsa8ZitYxdkul078q7wpvd/wDLyqnLWMII/QcBhK/h3kjxGJVs6zCl7/fBYOorxoQ/lr4mL5q09JRoyUfddaylooor68%2BHCiiigAooooAKKKKACiiigAooooAKKKKACiiigAooooAKKKKACiiigAooooAKKKKACiiigAooooAKKKKACvGf2X/%2BS3/tHf8AZZrH/wBQrwvXs1eM/sv/APJb/wBo7/ss1j/6hXhegD2aiiigAooooAKKKKACiiigAooooAKKKKACiiigAooooAKKKKACiiigDyL9vr4heNPhR%2BxR8U/iR8PNZk0zWdF8DajdWWrwxhn00rA268UMCpMC7phuBXMfIIyK8p%2BHXjHxz8CNN/aZ8GfCfxP4i8a6f8NdCtdW8Ep4q8SXmvXUeqS6CbuTTjd3cstxMhdLa4EbyMV/tAhdqGNV%2Brr2ys9Ss5dO1G0iuLe4iaOeCaMOkiMMMrKeCCCQQeCDXKfDn9nn4A/B7T7DSfhH8DvB/ha10uW5k0y28OeGbWxjtHuAouGiWGNRGZQibyuC%2Bxd2cCgD59/4JnePtYuZ9R%2BHPxBs/Esviq7%2BHvhjxld61q/xbvvFVvqlnqYvkhuAlwEh0q4aW0uGktLOMWoBi8l5FTEfV3/jTxJ4h/4KbeC/DurfCPxDoVnpPwe8cJYa9qtzpz2mtBtW8JZe2W2u5Z0CbRn7RFAfnG0N82PXvhf8Dfgp8ELbULL4L/B/wt4Qh1a8N3qsXhfw/baet5cEYM0ogRRI%2BP4myfeuC8cf8pC/hf8A9kZ8ef8Ap28IUAeY/wDBJ7/iXW/7Q/hNuP7L/ae8VrCvpC5tnT88mvrSvkv/AIJy/wDEq/aS/ap8J9PJ%2BMg1Db/19WaPn8dtfWleTkemWQj2c191SofoHij73HGJq/8APyOHn/4HhMI/8wooor1j8/CiiigAooooAKKKKACiiigAooooAKKKKACiiigAooooAKKKKACiiigAooooAKKKKACiiigAooooAKKKKACiiigArxnxx/ykL%2BF//ZGfHn/p28IV7NXjPjj/AJSF/C//ALIz48/9O3hCgD2aiiigAoornfiv8V/APwR8BXvxM%2BJuuNp%2Bj2DwRzTRWc1zLJLNMkEEEUECPLPNLNLHFHFGjSSSSIiKzMAQDoqK87sv2rfgJffAu6/aRTx00PhCxknhvr280i7t7m2uYbk2klpJZSxLdJdC5UwfZWiExlxGELkKcqX9tv8AZ/TwDF8RrW78YXtlJq82lzadpnww1%2B71Wyu4kEkkV1psNi17aFYyjkzwoNkkbZxIhYA9Zrxn9g//AJIhrn/ZZviP/wCprrdeo%2BBfHHhH4m%2BCtI%2BI/wAP/ENrq%2Bha/pkGo6NqtjKHhvLWaNZIpkYdVZGVgfQ15d%2Bwf/yRDXP%2ByzfEf/1NdboA9ld0jQySOFVRlmY4AHrX5WfHH9o7xj8ffi9rH7Xnwzia/wBQvdWn%2BFn7KGm54nv5j5Wq%2BJV/upGpZUmxtAKK4BTNfX//AAVX%2BNfiX4YfssXHw5%2BGk4/4Tf4qarB4L8IRCTayz3xMcs2Ryixwea3mdFYoSRXjH/BLj4JeHPix8UV/aX0mAy/Dn4U6KfAPwLWWPC3iQ/JqeugdN9zN5gDjkq8isMoDXyedVamOzCnl1F22k2uj7/8AbkbyX9%2BVPse9wbl2Cx/EFTNsygp4HKowr1IP4a2Jm2sHhn3Upxdaov8An1Sk3o0fWX7Iv7Mvgv8AZE%2BAOgfA3wWiyDTbYPq2plMSanfuA1xdyE8lpHyeSdqhVHCivSqKK%2Bno0aWHoxpU1aMUkl2SPOzLMcdnGY1sdjKjnWqylOcnvKUm22/m9tkkkkkkkUUUVqcQUUUUAFFFFABRRRQAUUUUAFFFFABRRRQAUUUUAFFFFABRRRQAUUUUAFFFFABRRRQAUUUUAFFFFABRRRQAV4z%2By/8A8lv/AGjv%2ByzWP/qFeF69mrxn9l//AJLf%2B0d/2Wax/wDUK8L0AezUUUUAFFFFABRRRQAUUUUAFFFFABRRRQAUUUUAFFFFABRRRQAUUUUAFFFFABXiPxA1Swtf%2BCjfwn0u4uFSe6%2BC/j826Mcb9mreDywHqQDnHoCe1e3V8Hf8FNPirffAz/gpn%2Bxz8UhI6aWjeMNG15x/q47TUZvD1n5kh7IkkkT59VWubF4iOEw7qy2Vr%2BjcV%2BF7nJjsXHA4WVeW0bX9HKMW/lzX%2BR3v7GH/ABKf%2BClH7XXhg8L/AGl4N1CIf3vP0iQsR%2BIFfWlfJfwF/wCJN/wV%2B%2BPmm9P7a%2BH3hbUMf3vJjkgz%2BuK%2BtK4sm0ws49qlVf8AlST/AFP0vxJ9/PcNW/nweBl/5aUov8abCiiivWPz8KKKKACiiigAooooAKKKKACiiigAooooAKKKKACiiigAooooAKKKKACiiigAooooAKKKKACiiigAooooAKKKKACvGfHH/KQv4X/9kZ8ef%2BnbwhXs1eM%2BOP8AlIX8L/8AsjPjz/07eEKAPZqKKKACvIP21/hv4%2B%2BIfwn0i%2B%2BGXhltd1jwn4/8O%2BJ4fDqXcMD6tFp%2Bp29xPbRyTukSzGFJDF5rpGZVjDuikuvr9FAHyf4V%2BBPjvxP%2Bzt8UPD3xk/Z%2B8Z213478b3njjT9A8Oa/oy6lpdwl/BJp1vDO179mXUojYWt6Szm0EsmzzpQGzwvh74b/ALfHwJ%2BCfj7WPhn8MviB4g8ZfG74vDVNY1HUtf8ADE3iDwdoy6Jp2mPfSIbq00ue/ZdLBhgtmNvCbmHeJVt3SX7qooA87%2BFvwqsvDf7MHhv4M/DW18S/DK10vwnZaXo1uJdPu9V0GKGFI442eT7baTTIqBWc%2BejHJy2d1cf/AME6dJv9B/ZuvtE1XxPfa3c2fxb%2BIcNxrGpxwJc3zr4z1oGaVbeKKEO5G4iONEyTtVRgD3Svn/8AZX8ZWXw5/ZN8d/ELUsfZtB%2BJnxR1G43HA2QeMNdlbP4KamUowi5PZakzlGEHKWy1fy1/Q%2BK/%2BClnxm8R/Gz9qTxQvw8Juz8OrWD4a/DmBH%2BW78a%2BIQYruVCP4raxEyE4zHMkZyMiv0j/AGe/gz4c/Z3%2BB/hT4HeE1H2DwvoVvp8UoTaZ2jQB5mH96R9zt7ua/M//AIJH%2BALr9oL46%2BBNV19XvbX4YaBe%2BO/GeoSjP9p%2BMPEUrvbySdmMenJAynqrxnpk1%2BsNfK8Mwli5VsynvUdl6bv7nyx/7cZ9ZiISyTgPK8rlpWxd8xxHdSxMVHC03/16wcIO3R12%2BoUUUV9YfKhRRRQAUUUUAFFFFABRRRQAUUUUAFFFFABRRRQAUUUUAFFFFABRRRQAUUUUAFFFFABRRRQAUUUUAFFFFABRRRQAV4z%2By/8A8lv/AGjv%2ByzWP/qFeF69mrxn9l//AJLf%2B0d/2Wax/wDUK8L0AezUUUUAFFFFABRRRQAUUUUAFFFFABRRRQAUUUUAFFFFABRRRQAUUUUAePf8FBz45H7DnxYPw3/tP%2B2P%2BEC1P7P/AGJv%2B3bPs7%2Bb9m8v5/P8rzPL2fPv27fmxXhv7I3xD%2BE/ga6%2BO3/DAOi%2BEfEPg9oba8%2BEfgvwjrNlZaVr%2Bv2%2Bixvf22mvvW3WNnbTknkjPlxzyTNIRJ5tfadFAHxN/wAEj7Tx54d%2BKf7RXhf4i/CXxnoeuSeP9H1TxJq/jC60h5dR1a58OaY9023TtRvFjy/71IwxiigmgiRsxtHHzX/BUT4T/F79oj4map8NvEfgXQLG1sf2fvHeqeANS0XxPcXl/fXNlrHhC7XzoHsoVspC8CIojmuNwlbLLj5vv6vGPHaJJ/wUI%2BGEciBlb4MePAysMgj%2B1vCHFYYrDwxeGnQntJNP5pr%2BvQ5sZhaeNwdTDz%2BGcXF/NNfrf5HzH8Dvj5E37bnwY/a78UeWPD/7RfwTtPDaajGcR2Xia1lFw9tIenzndCndnyAMKa/QOvza%2BDn7NF78Wv2Sfjt/wTs0e7ay8XfA/wCKd1qfwru1k2S2Cyu2o6RKrH/VmQtcRluyysRzX2R%2Bwv8AtNWn7W/7MXhr4xyW4tdYmt2svFOmlCjWGrW58q6hZDyn7xSyg87HQ968DIMRUi3Sq7zTmv8AEnyVY/Kceb/DM%2B7r4iXFvhzlefr%2BPhYxwWJXaVP2n1ep5KpBVaT6e0pLrKx67RRRX0x8aFFFFABRRRQAUUUUAFFFFABRRRQAUUUUAFFFFABRRRQAUUUUAFFFFABRRRQAUUUUAFFFFABRRRQAUUUUAFFFFABXjPjj/lIX8L/%2ByM%2BPP/Tt4Qr2avGfHH/KQv4X/wDZGfHn/p28IUAezUUUUAFFFef/ALS/xxufgD8NYvFmi%2BEV8Qa1qviHS9B8N6HJqP2OO91HUL2K0gWWfy5DBCrS%2BZLII5GWKNyqSMFRgD0Civn25/boutC/Ze8U/G7xb8KY7TxP4O8YnwjrfhK38RCS0j1h9SgsIMag8CYspDdWtwbloFaOCUs8QZGjrCsv%2BCgPj3xBfN8HfB/wQ8N6l8XLX4k3ng7VvC6fEORdEs57bRYdalujqo05pmhFpdWiY%2BxCQXNx5TKqo8qgH0/Xwf8AHr4ht8Mv%2BCO3x11%2BOYpJeeP/AIk6THg8sb7x1q9lgfhOf1r69/Z3%2BNGj/tE/A/wv8bdD0e502DxJpEV2%2Bl3rK01hMRiW2kK5VnikDxsVJUlCQSCDX5qf8FM/iBd%2BGP8Agl6fBmlMGufEH7UPj0ywFsb7a08W%2BI7uQ%2B4DxQ/nXkZ/iPquSYip2hL8Vb9TjzDDYjHYSWEw/wDErctKH%2BOtOFGP/k1ZfK59Jf8ABCL4P6Z8O/2AND8ei3I1Tx7qV3q%2Bou/JSNJWtLaFSefLWC3jKjoN7Y619mV5D%2BwD4M/4V9%2Bw/wDCTwm8Ply23w80l7lMdJpLWOST/wAfdq9erXJ8OsLlNCkla0I/e0m/xbPteOMTTxfGOYTpP93GtOEPKnSl7Gml5Rp0acV5JBRRRXpHywUUUUAFFFFABRRRQAUUUUAFFFFABRRRQAUUUUAFFFFABRRRQAUUUUAFFFFABRRRQAUUUUAFFFFABRRRQAUUUUAFeM/sv/8AJb/2jv8Ass1j/wCoV4Xr2avGf2X/APkt/wC0d/2Wax/9QrwvQB7NRRRQAUUUUAFFFFABRRRQAUUUUAFFFFABRRRQAUUUUAFFFFABRRRQAUUUUAFeM%2BOP%2BUhfwv8A%2ByM%2BPP8A07eEK9mrxnxx/wApC/hf/wBkZ8ef%2BnbwhQB47%2B1povxR/Yk/afvf%2BCjfwy8LS%2BJ/BOvaHaaT8avDFhDm%2Btba2JEOs22DiUwxkK6Hoik5AZni4%2B2%2BK1v%2Bw58WNc/bV%2BFVj/wmX7MvxsurbXPEep%2BGA00vhHVnXy5tRMAG5reZsGb%2BNHUqQrIqSfe00MVxE0E8SujqVdHXIYHggg9RXxd4t/ZQ/aT/AGGvFHiHx/8AsH%2BG9I8a/DLxJcveeLPgHrUghWGR1Ink0mZspH5g627jZgYCv8ip8xmOBr4ap7ahfl5nPRczpza1ko/ahNaVILX7UddDfhviCtwPmGIlUw7xWXYtcuJoJtSS5lP2lJrWMozSqRaUnCom1GdOpVpv6/8ABXjXwj8R/Cen%2BO/AXiSz1jRtVtVudN1PT7hZYbiJhkOrLwR/%2BqtSvzF/Z3%2BJGpeAPFmsa9/wTA8XW8O6/e58bfshfFF/7K1HT7vGZzpTSnMLHrsXdEM/NnCRL9f/ALMf/BRb9n39pLWH%2BHFzeXngj4iWT%2BTq/wAN/G0X2HVbeYDlY0fAuF7ho8nbgsq5xXZl%2Bd4bFKMKrUZvRa3jJ/3JdX/dlyzWzjpc%2BuxvCdDH5bPOuF8QsfgFq5Q/jUF/LiaKvOm4v3XUUZUJNXU4X5F73RRRXtnxQUUUUAFFFFABRRRQAUUUUAFFFFABRRRQAUUUUAFFFFABRRRQAUUUUAFFFFABRRRQAUUUUAFFFFABRRRQAV4z44/5SF/C/wD7Iz48/wDTt4Qr2avGfHH/ACkL%2BF//AGRnx5/6dvCFAHs1FFFABXn37S/wOuvj98NYvCei%2BL18P61pXiHS9e8N65Jp32yOz1HT72K7gaW38yMzws0XlSxiSNmikcK8bFXX0GigDw34f/srfEbwR8I/GPgHVPiZ4P8AEOqeOrrUtV8RX2vfDuSfT7vVb2ZjIZLE6jh7BbYQ2y2hl8zZDue5dmJrhPA//BNPUfhD4c0rxH8Evib4R8LfEPT/AB7eeKJdV074ZiLw47XOkx6RJYRaLBfRNBarZ29psVbveJrVZXeTfIj/AFbRQB5z8Kf2Yvhr8O/2ZtE/Za8TaVa%2BMPD2m6DHp2qx%2BJtOhuI9Zb7001xAymJjLKWlZNu0FsAAAV%2BPf/BReCxtfhj4D/Z0%2BFWiWGk2Phfxv8Vrmy0HTLRILaGC78fX2k20UcUYCxogMgVVAAHAGK/cqvwwu43%2BNf8AwUWn8KjMi6H%2B0zJ4RuEYcGzuPHPiPWbjHrjZGT9a%2BV4xblk/sFvUnCP43/yPoeCqcK/iDklOavFYulVknty4ZVsXK/lbCpP1P3C8N6FZ%2BF/Dth4Z05cW%2BnWUVrAMYwkaBF/QCrtFFfUpJKyPAnOdSbnJ3bbbfdttv8WwooopkhRRRQAUUUUAFFFFABRRRQAUUUUAFFFFABRRRQAUUUUAFFFFABRRRQAUUUUAFFFFABRRRQAUUUUAFFFFABRRRQAV4z%2By/wD8lv8A2jv%2ByzWP/qFeF69mrxn9l/8A5Lf%2B0d/2Wax/9QrwvQB7NRRRQAUUUUAFFFFABRRRQAUUUUAFFFFABRRRQAUUUUAFFFFABRRRQB49/wAFBz45H7DnxYPw3/tP%2B2P%2BEC1P7P8A2Jv%2B3bPs7%2Bb9m8v5/P8AK8zy9nz79u35sV4l%2Bxz4v/Y10DVfjjpHwf8AFfgWw%2BAt4ltNolvoWoW0OhTPDosba9JYiJhGYI4WszcND8iTNOXIlMtfZ1FAHx3/AMEm/Ef7NvxLk%2BJPxq/ZPv8AwJongfxNfaYfD/w28CX1nt0e0hhmSPVL6ztG2afe6hlnMDKsghtbcSgTLMid7f6l8V7v/gpt4Ls/G3gvw9p%2BhW/we8cDw1qOleJ57y7v0OreEvMa5tpLKFLQjCYCTXAbccldo3fQ9eM%2BOP8AlIX8L/8AsjPjz/07eEKAPZqKKKAPI/2mP2Ff2W/2t7dJfjV8K7K81a3VRYeJrAtaapZlTlDHdRFZMKeQrFkz1U18kftH/wDBK39qW60NdG0Px34Y%2BPPhzT1xpGk/FyJ7PxNpcYOQlnr1oVlZwcECYrFxyh6H9E6K8nG5Jl2P5nOFpPdx0b9dGpf9vRfk0YYajVy7M45nltaphcVHVVqE5Uqi9ZQa5l3U4zTWjTWh%2BQWmft0/8FCP%2BCeUq6H8TPDvjI%2BG7Rwg8OfGnS5L%2BOJeghsvEmnqVuWzgAzxrGgx9a%2Bo/wBnz/gvL%2Bxd8Vkg0r4s3V/8ONXeQRP/AGztvNLeXAJWLULXdGQAeWkEVfa9zbW95bvaXduksUqFJIpEDK6kYIIPBB9K%2Be/jR/wSl/4J%2B/HeabUPGP7NOg2WoTEsdT8Mq%2BlT7z/GTaNGJG93DZ75ryY5VxBlz/2LEqcf5Kqf4STbX5eR9XW4uxuYxtnmCoYuX/P6mvqWJfnN0YTwtV93UwtOTerld3PcvBfjvwR8SPD8Piz4eeMdK17SrkZt9S0bUI7q3lH%2BzJGxU/ga1a/Oy/8A%2BDfrRPhlr0njD9jT9tf4i/DbUydyFpRcKcchC9s9s5Tt8xfg87q6PSfCn/Be/wDZ2tjDp3jf4U/G/TYSFgg1cNp%2BpNGO28LbRhv9p5JD65rsp5tmVHTGYOS86bVRfcnGf4M%2BdxeMylO9GNeC7Tpwnb/t%2BhOUX6ulH07feFFfE03/AAVd/aC%2BEclxF%2B1l/wAEu/iz4agsowbvWPBYi8QWSnuxmQRRIv8A20bHvWz4D/4Lsf8ABNXxrsg1L4033hu7c4Nn4i8M3sTIe4Z4o5IlI93rojn%2BTuXLKsoPtO8H901H82eXPN8upQ56tTkjprOM4LXZXnCMb%2BXNfyPsCivJvBP7ef7E/wARQi%2BDf2sfh7eSyfctf%2BEttI5z/wBsnkVx%2BVen6Rrmi%2BILNdR0HV7W%2Bt2%2B7PZ3CyofoykivSpYjD11elNS9Gn%2BTZ10MVhcSr0akZf4ZRf5NlqiiitjcKKKKACiiigAooooAKKKKACiiigAooooAKKKKACiiigAooooAKKKKACiiigArxnxx/ykL%2BF//ZGfHn/p28IV7NXjPjj/AJSF/C//ALIz48/9O3hCgD2aiiigAooryH9tf4kePvh58J9Isvhl4lbQtY8WeP8Aw74Yh8RJaQzvpMWoanb289zHHOjxNMIXkEXmI8YlaMujqCjAHr1FfIWt/tI/tAeEv2Ivi3fwfEb%2B1vHPw%2B%2BIF34Q0HxXd6ZaJd62zX9rFabII4VtDqLx3sdrGPKS3e8VC0aRsyL5aP2qv21r/Q4fhLY%2BJfiZceKbb4y6to2oeG9N0zwevxCh0iDw5balCsxnT/hHWxNdwzPNE202t1aRq5uTKhAP0Pr8bv2IvAb6/wD8FRo7i5g/4/f2svjDq94COtvps80No/8A4ET3C%2B2DX6ZfsyfHrUvFf7EPgP8AaF%2BKerPrmo3/AIC03UvEl34Q8M31y1zePbx/aDb2MMDXRPmlx5Sxb1wQUGCB8Uf8E0v%2BEb%2BIv/BSbV/FfhfTr6HTtI0H4jas6apptxZ3KX%2Bo/EjWMebb3KJNA/2ZVBjkRXXbtZQQRXhZ7QVf6sn/AM/Yfq/yifbcAYZf2zisxf8AzC4PG1F/inh/q8fnfEu3mfptRRRXunxIUUUUAFFFFABRRRQAUUUUAFFFFABRRRQAUUUUAFFFFABRRRQAUUUUAFFFFABRRRQAUUUUAFFFFABRRRQAUUUUAFFFFABXjP7L/wDyW/8AaO/7LNY/%2BoV4Xr2avGf2X/8Akt/7R3/ZZrH/ANQrwvQB7NRRRQAUUUUAFFFFABRRRQAUUUUAFFFFABRRRQAUUUUAFFFFABRRRQAUUUUAFeM%2BOP8AlIX8L/8AsjPjz/07eEK9mrxnxx/ykL%2BF/wD2Rnx5/wCnbwhQB7NRRRQAUUUUAFFFFABRRRQAVw/xU/Zm/Z2%2BOUTR/GL4GeE/EzMuPO1vQLe4lXtlZHQup9wQa7iioqUqVaHLUipLs0mvuaZ0YbF4rBVfaYepKEu8ZSi/vi07eV7PqmfGPxS/4IHf8E4PiOZZtG%2BG2teEbiXJafwv4imXB9RHdedGv0CAe1eD%2BKv%2BDbOy0DVv%2BEi%2BBH7W2o2EsQxDZ67oRy/oGuLKeBh9Qhr9RqK8LEcLcP4l3lh4p943i/8AyVr8j1I5/i5/71RoYhf9P8Lhq3/k06CnfzVS/n1PyZm/4Jk/8Fffg9ctP4L%2BP%2Bua7ZRf8e1h4F%2BOGo6WzgdA8epwyx59g2KhPiX/AILB/CTjxfrP7SmiiL7zaV4O0Hx6q475R4d496/WyiuT/VPD0/8Ad8RVh/282vxaf4nSsw4LxCtjOHsN60KuMwj%2BXscVUpr/AMF/Lofkxbf8FL/2o/BM6WXj3/goHY6HcFtq2/xW/ZvvtKYt6MbBZVU/jj3r0XwV/wAFIf2zPEOxfDP7YX7Euvq33IdS8RavpF3IfQJcMgz7YzX6P3NtbXkD2t5bpLFIuHjkQMrD0IPWvOvGv7HH7JPxH3t48/Zi8Aas79Z7/wAIWckgPqHMe4H3Bo/sTOKX8PFt%2BrqL8nP8g%2BoeFOJ3o5lhn/06xtKul/27icPGX3zb8z578L/tRf8ABVbXYPtPh79mv4I%2BM4wMmTwl8VcKw9QZA2PxrX/4a5/4KlaTxrX/AASVivEH3p9K%2BOOkn8kePca1/FH/AARp/wCCa/iqf7ZN%2BzHYadcA7o7jQ9av7Bo29VEE6r%2BmKyf%2BHP3wd0MZ%2BFn7T/x68E7f9Unhj4pXEaL7YlSTI9qPqvEVP7cn6VIf%2B5KH6h/qn4fV/wDd%2BI8dR8q2DpVEv%2B3qNRt/%2BAoT/hvv9tXTv%2BRi/wCCTHxBix97%2BzfF%2BnXn5bcZo/4eY/GaxH/E9/4Jb/H2PHX%2Bz9Bt7r8tsozS/wDDvb9rXw1/yTP/AIKu/FK12/6v/hKdGsdax9fNCbqP%2BGfP%2BCvHhf8A5AP/AAUL8D%2BKNv3R4m%2BE8Flv%2Bv2Rzj8KOfPIfF7X5Rw8/wApRf4B/wAQ9wNX/dOLsO/KrQrUn/5NhpxX/gQn/D164tONZ/4Js/tUW/q8fwnEqD/gQuaP%2BHvXw3g/5Cv7G37Rth6/a/hLMMflKaXzf%2BC3/hr79r%2BzV4mgXp5b63Z3D/nmMUD9oH/grx4d/wCQz/wT38C%2BI9vX/hH/AIsQ2e76fakOPxo%2BuZjH4qlVeuGT/wDSZyD/AIhdxPP/AHbP8BV9K2Gj/wCnFR/ET/h8h%2BznD/yE/gr8abL1%2B1fC%2B7GPyzS/8Po/2NohnUdK%2BI9n6/afhvqAx%2BUZo/4bs/bw0T/kdv8Agkl4ygx9/wDsL4haZqf5eWFzR/w9F8c6Px4z/wCCZH7SVtj77aR4Fj1BV98pOvHvR/aVePxYq3%2BLDzQf8Ql8UJfwK2Hq/wCCpgp/%2Bk4%2BIf8AD7b/AIJ%2Bw/8AIQ8deKLT1%2B0/D/VRj8rc0D/guR/wTGjOL/8AaHu7Q%2Blx4H1ofyszQf8AgsL8ENP/AORu/Zv%2BO/h/H3v7Z%2BFdym367Gag/wDBbf8A4J62Qx4r%2BIviPQv7w1fwBqybfrst2o/tdrfHUV605L85xD/iEPjW/wCHgpT/AMGH9p/6axNT8Czbf8Ft/wDgl7df6r9qe2Gf%2BenhbV0/9CtBWhbf8Fkv%2BCZt3/qv2sNGH/XXTL5P/QoBVGy/4K//APBLDxLj/jJXQW3f8/8A4dv4f/Rtstatp/wUA/4JXeI8Z/aE%2BFr7v%2Bf6SCL/ANGqK1hmdWfw43Dv5f8A3U4a/hp4y4T%2BNl1VeuCxS/LmLNt/wVu/4JvXX%2Bq/a48LD/ro0yf%2BhRir9v8A8FS/%2BCd91/qv2wfA4/66auqf%2BhAVBbftC/8ABK7xJjyvjN8BLlm6JLrujbj/AMBZ81ftrn/gmh4ix9kuPgXf7unlvo0ufyzXRHFZhL4cRQf/AIF%2BlRnkVuFvEnDfxcI4/wCLDYuP5wJIf%2BCl3/BPycZT9sj4dj/f8UW6/wA2FTr/AMFHv2A2GR%2B2X8NPx8Y2g/8AalS23wZ/4J868QbP4UfBu9z08rQtJkz%2BSGtK1/ZC/Yp1QeZZfsv/AAtuR/ei8E6a/wDKKt4yzqXwzov/AMGfo2eXVwnF1D%2BLGlH1hXX52MZ/%2BCkX7AMY3N%2B2V8Nv%2BA%2BL7Q/yeqlx/wAFO/8AgntagmX9sTwCcf8APPxBE/8A6CTXWJ%2Bxn%2Bx9Gd0f7KXw1UjoV8C6eP8A2jVu3/ZQ/ZatCGtP2a/AERHQx%2BDbFf5RVVs9/mpfdU/zMOXiV/aofdV/zPNrz/grP/wThsQTP%2B114TbH/PGaWT/0BDWPff8ABZ//AIJkadn7R%2B1bpbY/54aJqMv/AKBbGvdLP4CfAvTiDp/wX8JwY6eT4ctVx%2BUdbFj4H8FaXj%2BzPB%2Bl2%2BOnkafGmPyWj2eeP/l5TX/bk3/7eg9lxG/%2BXtFf9w6j/Ooj5ff/AILi/wDBMuRjHpX7QN5qDjjZZeB9ZY/raCqfwT/bZ%2BA37Yv/AAUK8GN8DtS1m6Tw78GfGX9oyar4eurBf9I1bwr5ez7Qi%2BZ/qXztzjjPUV9foiRqEjQKB0AGAK8a8cf8pC/hf/2Rnx5/6dvCFa0KWaRqp1qsHHqlBp/e5v8AI3w1HOY1lKvXhKPVRpuLfzdSVtfI9mooor0D1Arnfix8J/APxv8AAV78M/ibobaho9%2B8Ek0MV7NbSxywzJPBPDPA6SwTRTRRyxyxOskckaOjKygjoqKAPLLX9i79nK0%2BFN78Ev8AhC9Qn8MalbyJf6de%2BKtTuDcTSXr3z3ryy3DStfG6czm%2BLfavMCt5uUXGVL/wT8/ZZk8MweG08JeIoZrfxDPri%2BI7X4ia5Drz6hNaraSzyawl6NQlL20cUDB52UxQxRkbY0C%2B0UUAY/w/8A%2BDfhV4G0f4afDvw7baRoOgabDYaPpdmm2K1tokCRxqOuAoA5yT1JJr4F/4I1aVda3%2B2n%2B1944vlzHpfxb1bRNNf0U%2BIdcuZl/77kQ/jX6JV8X/APBGjwi%2BlWn7S/jO5ixLrf7XPxAWN8fegt9XljX8nMtedjabq4rDeU2/uhL9WfY8NY2OByHOu9ShTpr/ALfxVFv/AMlp2fkfaFFFFeifHBRRRQAUUUUAFFFFABRRRQAUUUUAFFFFABRRRQAUUUUAFFFFABRRRQAUUUUAFFFFABRRRQAUUUUAFFFFABRRRQAUUUUAFeM/sv8A/Jb/ANo7/ss1j/6hXhevZq8Z/Zf/AOS3/tHf9lmsf/UK8L0AezUUUUAFFFFABRRRQAUUUUAFFFFABRRRQAUUUUAFFFFABRRRQAUUUUAePf8ABQc%2BOR%2Bw58WD8N/7T/tj/hAtT%2Bz/ANib/t2z7O/m/ZvL%2Bfz/ACvM8vZ8%2B/bt%2BbFfNnwi8S/DzTvhj%2B094a/4Jya/4ag8O6l4Wmf4K2HgW6t1sLrxLF4dzeHSUhPluElfTTKYAVW5aXfiUy196UUAfG//AATLP7Ph%2BMfj3/hi06R/wqf/AIVv4K8z/hHNv2H/AISrfrP9peZs4/tH7H/ZH2vd%2B93eT5n7zfXoN/qXxXu/%2BCm3guz8beC/D2n6Fb/B7xwPDWo6V4nnvLu/Q6t4S8xrm2ksoUtCMJgJNcBtxyV2jd9D184ftH6v8a9H/bw%2BE8/wO%2BH/AIW8Rak3wj8drd2nivxhc6LBHB/anhIl0lt9PvWd920bDGowSd%2BQFIB9H0V4z/wnH/BQv/o1/wCDP/h%2BNW/%2BZej/AITj/goX/wBGv/Bn/wAPxq3/AMy9AHs1FeM/8Jx/wUL/AOjX/gz/AOH41b/5l6P%2BE4/4KF/9Gv8AwZ/8Pxq3/wAy9AHs1FfOOk/tHft26x8Z9f8Agdb/ALKHwkXVPDvhfSNdvLl/jrqnkSQajc6lbwohHhjcXVtLnLAqAA8eCxLBeo/4Tj/goX/0a/8ABn/w/Grf/MvQB7NRXjP/AAnH/BQv/o1/4M/%2BH41b/wCZej/hOP8AgoX/ANGv/Bn/AMPxq3/zL0AezUV4z/wnH/BQv/o1/wCDP/h%2BNW/%2BZeuX8A/tHft2/ETxX438IaP%2Byh8JIbjwH4oi0LVZLn466oEnnk0rT9TDxbfDBJTydRhUlgp3o4xgBmAPo6ivGf8AhOP%2BChf/AEa/8Gf/AA/Grf8AzL0f8Jx/wUL/AOjX/gz/AOH41b/5l6APZqK8Z/4Tj/goX/0a/wDBn/w/Grf/ADL0f8Jx/wAFC/8Ao1/4M/8Ah%2BNW/wDmXoA9mor5x%2BEX7R37dvxl8KXfi/w5%2Byh8JLa3s/FGt6FJHe/HXVFcz6Xqt1pk7jb4YYbGmtJGQ5yUZSQpyo6j/hOP%2BChf/Rr/AMGf/D8at/8AMvQB7NRXjP8AwnH/AAUL/wCjX/gz/wCH41b/AOZej/hOP%2BChf/Rr/wAGf/D8at/8y9AHs1FeM/8ACcf8FC/%2BjX/gz/4fjVv/AJl65f4I/tHft2/Hj4MeEPjj4V/ZQ%2BElrpfjPwvp%2Bu6bbah8ddUWeGC7to7iNJAnhhlDhZAGCswyDgkc0AfR1FeM/wDCcf8ABQv/AKNf%2BDP/AIfjVv8A5l6P%2BE4/4KF/9Gv/AAZ/8Pxq3/zL0AezUV4z/wAJx/wUL/6Nf%2BDP/h%2BNW/8AmXrl/jd%2B0d%2B3b8B/gx4v%2BOPir9lD4SXWl%2BDPC%2Boa7qVtp/x11Rp5oLS2kuJEjD%2BGFUuVjIUMyjJGSBzQB9HUV4z/AMJx/wAFC/8Ao1/4M/8Ah%2BNW/wDmXo/4Tj/goX/0a/8ABn/w/Grf/MvQB6jqvgXwRruf7c8HaVebuv2vT4pM/wDfSmub1T9mL9mvW8/21%2Bz14GvM9ftXhOzkz/31Ga5L/hOP%2BChf/Rr/AMGf/D8at/8AMvR/wnH/AAUL/wCjX/gz/wCH41b/AOZespUKM/ign6pP80zuoZnmeF/gV6kP8M5x/wDSZxLupfsEfsN6vk6j%2Bxx8LZGPV/8AhAdPDf8AfQhBrA1H/gl//wAE9NUz9p/Y98CLn/n30OOH/wBF4rJ%2BLv7R37dvwa8KWni/xH%2Byh8JLm3vPFGiaFHHZfHXVGcT6pqtrpkDnd4YUbFmu42c5yEViAxwp6j/hOP8AgoX/ANGv/Bn/AMPxq3/zL1zyy3Lp/FRg/wDtyP8A8ievR404yw/8LM8TH0xFf/5ccjqH/BH3/gmtqWTcfsm6Auf%2Bfe7u4v8A0CYVjXn/AARE/wCCX163mN%2By/FGwOQ1v4u1iPH/fN2BXo/8AwnH/AAUL/wCjX/gz/wCH41b/AOZej/hOP%2BChf/Rr/wAGf/D8at/8y9YyyTJpb4an/wCAR/yPUpeJ/iVQ/h51i1/3M1v/AJYzzL/hyR/wTzg/5BHw18Raf6fYvH2rLj/vq5NH/DmD9j6D/kFa/wDEux9PsnxJ1AY/NzXpv/Ccf8FC/wDo1/4M/wDh%2BNW/%2BZeuX8fftHft2/DvxX4I8Iax%2Byh8JJrjx54ol0LSpLb466oUgnj0rUNTLy7vDAITydOmUFQx3ugxgllj%2Bwsl6YeC9Fb8mjf/AIit4mP4s4xD/wAVRy/9KjI5r/hzv8AYf%2BQb8e/jfZen2X4pXQx%2BYNJ/w6J%2BHsX/ACD/ANs/9o%2B09Ps3xalGPzhNenf8Jx/wUL/6Nf8Agz/4fjVv/mXo/wCE4/4KF/8ARr/wZ/8AD8at/wDMvR/YWUf8%2BV98l%2BU0H/EVPETrmU36xoy/9Kw8jzH/AIdN2UX/AB4f8FF/2q7b0EPxgOP1tjVP4K/sq3n7Mn/BQvwWtz%2B0x8U/iKutfBnxlsHxM8VDUzp/k6t4Vz9nIjTy/M80b%2Bu7yo%2Bm3n1r/hOP%2BChf/Rr/AMGf/D8at/8AMvVDwP4H/as8Y/tWeHPjd8bvhx8PfDOjeGfh74h0OGHwr8Q77Wrq7utSvtEuEZkuNIsUijRNLlBYO7FpUAXGSNqGVZfhqqqUoWkv70/yc2vwPPzTj7i/O8DPB47Fc9Odrr2eHV7NNe9DDU5rVLaa7O6un7rRRRXoHx4UUV8/f8FLjpg/Zrtf%2BE08v/hCv%2BFheF/%2BFkfaP%2BPf/hHv7ZtPtv2rPH2Py/8Aj53fu/s3n%2BZ%2B730AfQNFfnfqPij4cv8A8EzPjR4I%2BGPifT4fBU3ji/f4d2%2Bj3EbWdj4Un1uC3N/5CZL6BHc/b3cRgQvYRSpEwjKEeSWFno8Hw5sfCC%2BPvgivwXP7SerDXfGV54b2fC27X/hEraeyNvpS3ywpYLeebbtA188DarE8/mtKyW4AP1rrwf8A4J2%2BFtM8M/BXxdNpwbdqnx4%2BJV9dM%2BOZW8Z6wp6dgqKPwrW/Zd8e%2BNPGf7EPgjx38Pfgp4e0HV7nwXZvo3gmW9m0nSbdVjVIoo5FtZZLa1Mahoh9nZljKAoDnHj/AOxN4z/bwg%2BDespoH7N3wjuYD8XPiA0kl58bNUgcTnxhrBmQKvhuQFFlLoj7gXRVcpGWMappNp9i41KkYSgnpK1/Ozuvuep9hUV4z/wnH/BQv/o1/wCDP/h%2BNW/%2BZej/AITj/goX/wBGv/Bn/wAPxq3/AMy9Mg9morxn/hOP%2BChf/Rr/AMGf/D8at/8AMvR/wnH/AAUL/wCjX/gz/wCH41b/AOZegD2aivnH4I/tHft2/Hj4MeEPjj4V/ZQ%2BElrpfjPwvp%2Bu6bbah8ddUWeGC7to7iNJAnhhlDhZAGCswyDgkc11H/Ccf8FC/wDo1/4M/wDh%2BNW/%2BZegD2aivGf%2BE4/4KF/9Gv8AwZ/8Pxq3/wAy9H/Ccf8ABQv/AKNf%2BDP/AIfjVv8A5l6APZqK%2Bcfjd%2B0d%2B3b8B/gx4v8Ajj4q/ZQ%2BEl1pfgzwvqGu6lbaf8ddUaeaC0tpLiRIw/hhVLlYyFDMoyRkgc11H/Ccf8FC/wDo1/4M/wDh%2BNW/%2BZegD2aivGf%2BE4/4KF/9Gv8AwZ/8Pxq3/wAy9H/Ccf8ABQv/AKNf%2BDP/AIfjVv8A5l6APZqK8Z/4Tj/goX/0a/8ABn/w/Grf/MvXL/F39o79u34NeFLTxf4j/ZQ%2BElzb3nijRNCjjsvjrqjOJ9U1W10yBzu8MKNizXcbOc5CKxAY4UgH0dRXjP8AwnH/AAUL/wCjX/gz/wCH41b/AOZej/hOP%2BChf/Rr/wAGf/D8at/8y9AHs1FeM/8ACcf8FC/%2BjX/gz/4fjVv/AJl6P%2BE4/wCChf8A0a/8Gf8Aw/Grf/MvQB7NRXzj4%2B/aO/bt%2BHfivwR4Q1j9lD4STXHjzxRLoWlSW3x11QpBPHpWoamXl3eGAQnk6dMoKhjvdBjBLL1H/Ccf8FC/%2BjX/AIM/%2BH41b/5l6APZqK8Z/wCE4/4KF/8ARr/wZ/8AD8at/wDMvR/wnH/BQv8A6Nf%2BDP8A4fjVv/mXoA9morxn/hOP%2BChf/Rr/AMGf/D8at/8AMvXL6t%2B0d%2B3bo/xn0D4HXH7KHwkbVPEXhfV9ds7lPjrqnkRwadc6bbzI5PhjcHZtUgKgKQQkmSpChgD6Oorxn/hOP%2BChf/Rr/wAGf/D8at/8y9H/AAnH/BQv/o1/4M/%2BH41b/wCZegD2aivGf%2BE4/wCChf8A0a/8Gf8Aw/Grf/MvR/wnH/BQv/o1/wCDP/h%2BNW/%2BZegD2aivnHSf2jv27dY%2BM%2Bv/AAOt/wBlD4SLqnh3wvpGu3ly/wAddU8iSDUbnUreFEI8Mbi6tpc5YFQAHjwWJYL1H/Ccf8FC/wDo1/4M/wDh%2BNW/%2BZegD2aivGf%2BE4/4KF/9Gv8AwZ/8Pxq3/wAy9H/Ccf8ABQv/AKNf%2BDP/AIfjVv8A5l6APZqK8Z/4Tj/goX/0a/8ABn/w/Grf/MvXL%2BAf2jv27fiJ4r8b%2BENH/ZQ%2BEkNx4D8URaFqslz8ddUCTzyaVp%2Bph4tvhgkp5OowqSwU70cYwAzAH0dRXjP/AAnH/BQv/o1/4M/%2BH41b/wCZej/hOP8AgoX/ANGv/Bn/AMPxq3/zL0AezV4z%2By//AMlv/aO/7LNY/wDqFeF6P%2BE4/wCChf8A0a/8Gf8Aw/Grf/MvVv8AZW%2BHPxp8H6x8UPHfx00DwvpOqePviFFrlnpXhPxLc6tb2trFoOj6YqvcXFlZs0jSadK5URbQsiDcxzgA9booooAKKKKACiiigAooooAKKKKACiiigAooooAKKKKACiiigAooooAKKKKACvlf9p79rT4ufDD4x%2BLNa8A%2BHfB8nhj4P%2BH/AA/e%2BNTrWkXE2q6pb6vfypcwWFxHcRpZeRbWcdxmSKcXMhSMiHy/NP1RXjPxn/Yh%2BHHxu%2BKR%2BJmueOfFWlxaja6Ra%2BL/AA1o11app3imDS72S9sYr5ZbeSYLHNNLn7PLAZY5DFMZYwqAA9mooooAKKKKAPmPw5%2B0r8TIf2//ABR8H/iNrHh7wn4bXxBaaJ4Mi1H4Rayl14xgGgQajiDxG12unNLHd3OoAWgheTy7SYBQWaRfpyvK/Fn7LUHj/wCMmkfFPx78b/Gur6V4e12PWtA8AXB0yLRrHUI7d4I5w0Nkl7Ls8ySRUmupIxI%2B7Z8iBfVKACiiigDxf/goL8Xfjh%2Bz9%2ByP40%2BPXwCvfCkeseCdCu9cuoPGGi3N9bXdpa20sz26JbXVsySuyIokLlUBYlH4Fef%2BPP2tPi54L%2BPHi3U/Cnh3whF8PPCHxj8I/D7xlZzaRcHW9V1XXYNFSPUIbtLhYY44P7c0mMxSW8ryJDPiWPagr2H9rH9nGy/a0%2BBGvfs%2B618VfFPhHSfE9lLY65f%2BEF077Xc2UsTxTW26/tLqNEdX5ZEWQFRtdec8XB%2BwD4On%2BItn8RfFXxx8fa6x1nSdc8TaNqEulRWPifXNMSNLHVr2O2sImW4iEFphbZoIGNjbF4mMeSAe90UUUAFeL/tk/F344fBK18A%2BMfhZe%2BFP7G1D4meHPD3i%2Bx8QaLc3N1c2uq6zY6aDZyw3UKW0ka3Msm%2BRJ1JRF2ck17RXlX7V37Lb/tVeG9C8Lz/H3xv4Gt9C8SWGuo3guHR2e7vbG8gvLNpTqWn3g2xXFvG4WMIG5WTep2gA84/Z5/aV%2BJmt/tVeLfgj8UNX8PeE9Oh8U63b%2BCfCUnwi1nTLnXraF0lN/b61cXf2DUHYyTSyxW0BfkuxXDE/TleS6T%2ByiH%2BMmi/GX4j/ALQHjvxrN4Xu7y78J6F4hGkw2Gj3VzbyWslxEthp9tLK/wBnmnhXz5JVRZ32gEgj1qgAooooA8P/AG7vi58eP2fvg1q/x1%2BFHjHwLY6f4W0W5vL3RfFnhm9v7nxDe5RbPTLOS2vYPs81xKRbo3lXTNLPEFhY/K3n/wAEf2vvjPrnxL8Ff2t4M8JaR8NPG/xP8UfDbwr4a07S5o9X0S/0CHVt889yLhreaCRvD%2BposMdvEY1a2PmSZYD0/wDaV/ZBg/aS8eeCPiBN%2B0D478IXPgG7ub3RbHwxFo09nJeyoI1vJoNT068R54Y/MWGQBTGJ5SPmbIq%2BA/2Gvh74D%2BMtv8XYfiL4u1KDTtd1PXtE8Ialc2X9k6VreoxvHqGqQJFapP584nuyyvM8KNfXJjij8zgA9rooooAK%2BX/2ufjx%2B0v8FviJp/hTSofAHjXR/HMOtW2i/DmLwffSawlraaHdXcl/cTi9eK6thdRW9tJCLWIH7fCgmMjIkn1BXh037E1xH%2B0f4r/aa0T9qv4l6dq/i3TYdOudLhg8Pz2mn2cMDRw21m1zpMtzbxLK73WxZtrzuXcODtoAZ%2Bwh%2B0H43%2BPfw9vLr4r%2BPtGvvF2nCzbX/Ddl8LtX8I3mgPPbLKILmy1e6nuHBbf5dwAkciodobaTXuleb/A79m7Tvgz4n8SfEPWPil4p8ceKvFcVjb6x4n8XNYLcvaWYm%2By2qRafa2ttHFG1zcuNsIZmuJCzNkY9IoAKKKKAPjn/AIKCftx/FT9jDxz/AGnrmi6B4x8Ivo2o63b%2BFZfhzqdlLbppujX2pJJ/wkU10%2BmT3f2vTRssVgS6EcyygbYWkb179mj4u/HPVvip43/Z6/aOufCmoeJ/COk6HrUeteCtIubCxubHVBeRpEYLm5uXWWK4067Uv5uJEMTbIySorfHX9hLwR%2B05rV1a/H/4t%2BNfFHgu5kuJF%2BGV5JpsOixSTWM1kzb7eyjvpAI7iZgkt06B33bfkQL0/wCz5%2BzNpHwDvNe8RXfxQ8WeOPEfiQ2cereKvGtxZvfS21pEYrW1H2O2t4ViiDysMR72eeV3Z2cmgD0qiiigAr4j/an/AGyv2s/g38avEHwo8HeG/DnjXU7DRbjXfDAT4H%2BII5NFA1HTLVDC325x4mkFjqlx539l%2BU8LQlZRGJhHX25Xh%2BvfsW6n4l8en4na1%2B1z8UZtb0%2BC8i8G3hTQAPCq3U0Mk/2SMaTsnZo4Ft916t0yxM4Uq7s5AOq/ZY%2BLD/GT4RweLL34maN4qv4dRurLVL7RvBl94dFtcRSsrWs2m6hcT3VnPGMK8czh8/NtUMBXo1cN8A/gL4e%2BAHhnU9G0rxTrfiDUdf1641vxJ4k8RzQNe6rfzBEaeUW8UMCYjihiVIYo41SJAFGCT3NABRRRQAUUUUAFFFFABRRRQBR8UeIbDwl4a1HxXqoc2umWM13ciJct5caF2wO5wpr5z/Ym/aT%2BNfj/AMU6P4M%2BNnh7wZZjx18LbL4jeGYfBmlXFoNMjvLgm70%2B7M1xKLuaN7m2f7YggE7SzEwR7QX%2Blru0tb%2B1lsb23SaGaNo5opVDK6kYKkHggjjFeQ/szfsV%2BAv2YNVfV9A%2BIPi3xLLbeGLHwz4dHiy9tZhoGhWbyPb6bam3t4S0amT5pZzNcSCOLzJn8tcAHsVFFFABXC/tQePPiL8LP2aPiJ8Tvg/4UXXvFvhzwLq%2BqeFtDaxmuhqOo29nLLbWxhgZZZhJKiJ5cbB23YUgkGu6rO8W6Jf%2BJfDGoeH9L8V6joVze2kkNvrWkLA11YuykCaIXEUsRdTyBJG6ZHzKwyCAeXfsU/Fqf4ofDO%2BstW%2BIXh/WdT8O6qunXmmaJ8MNT8HPoaC2gkis7jStUuZ7mFwjiRXby0eKWLYmBvf2KvPPgP8As7aT8DrzxL4jufiJ4k8Y%2BJPF%2Bow3niLxT4rezF3dGG3S3giEdjbW1tFFHGgCrHCmSzsxZmZj6HQAUUUUAfLn7VH7WPxQ/Zw%2BL3jiy%2BJWjeEvEXwvsP2d/F/j220K30S4TVXbRBpaz21xcyXL280U6304CC2QqETLvlhXb/sz/F/4%2Bap8XPGX7Ov7Sz%2BErzxR4Y8MeHvEseq%2BCtJubGykstWfUrdbYw3NzcuZYbjSLsGUSBZEeJvLjO5ag%2BMf7Cvh346fHVvjL48%2BO3jmXTZvBWp%2BEb74ewwaL/Yl3o2pLbfb7SQvprXpE7WkDs4ug6lCEZEZkPSfs7/su6H%2Bz7fa14jn%2BKHi3xv4h1%2B1sLK/8T%2BNrm0kvTYWKSLZ2Y%2ByW1vH5URnuHBKGR3uZXd3Zs0Aen0UUUAFfInxr/aX/a28Ga7%2B0B4Et/CvgzxZe%2BAvD/hTxJ8NrHSfh/qd/Oseo6rqUIS8tYrx5dRngXTY51NsLclyQq/KrV9d14XL%2BxR4hi%2BOnjb4/wChftofFbStW8b6RY6Zc2NlZ%2BGGtNNtrK4uZ7NLYS6K8n7o3l0oMzyl1nIk8wqhUA6v9lT4tzfGX4UjxNqPxO0bxTqNrqtzY6tdaP4Iv/DZs7iJvmtZ9M1G4nurSdFK7kmYMQyttVWFek1wnwD%2BAegfAHQtZsdP8W654j1XxN4gl1zxP4m8SS27Xuq38kMMHmyC2hhgjCwW9vCqRRRoqQoAuck93QAUUUUAfG37S37Xf7S37PHxmg%2BG2sp8M/Gt9rcEE3hGHTvC17aS%2BC7zUvEOmeHtIm1OV76YXUU7avOC0S2cjixuljDL5hi9x/ZV%2BL/xI%2BIw8f8Aw%2B%2BMR0SfxV8NPHjeGtZ1Xw1p01nYan5ml6dq1vcQ28088lvm11S3R42mlxJHJhiCMcLbf8E1fCTXXxDfxD%2B0v8TtZt/iTrx1zWLfUjoXmWepRXEM%2Bn3NtdRaWl0psHt7cWkbzSRRLCgZH5z6x8A/gLofwD8Patptl4v1zxJq3iLXpta8T%2BKPEr2xv9XvpI4ofOmFrBBAuyCC3gRIoo0WOCNQvBJAO6ooooAZc/afs0n2PZ52w%2BV5udu7HGcc4zXxB8Vv2uf20/hp8RNc%2BG1vbeA/GeveGL3w1b6t468EfBXX9Wj8OW%2BrNePe2EulWepT3dzNHDZWN0TFOn7u6haWBAYmk%2B3ruGS4tZbeG6kgeSNlWeIKXjJGAy7gVyOoyCPUGvnv4MfsBeIPgJ8Nrj4afDv9ur4xRR3WrPqc2s3ll4Tn1CW7leWS5nmmfQj9pkneXdJJOJHzGmwoBggHrPwE%2BIdl8Vvg74f%2BIVh8QNG8VJqeniR9f8P6TNYWl3ICVkKWs800tsVdWRoZJHeNlZWO5SB19cl8C/gv4S/Z9%2BF%2BnfCnwVc39xZWEt1cTX2q3Imur67urmW6urqZwqhpZrieaV9qqu6Q7VVcKOtoAKo%2BJ4fElz4b1C38G6nY2WryWUq6XeanYPdW0FwUIjklhjliaaNWwWRZIywBAdSdwvVm%2BMdBv/FHha/8O6X4t1LQbm8tXig1rRxAbqxcjiaIXEUsRdTyBJG6HHzKwyKAPh74b/t2fta/GD4p638EvhZpvw%2BTxnptrrt9J4z8V/C7WtDXVNM0i10WVLGXRLy%2BTUNPle78Q7EmnmePyoZLhIXWdAfsb4BfFrTfj58CfBXx10bTZbOz8a%2BEtN160s5n3PBFeWsdwsbEAZKiQAn1FeLav/wTI8D61rl98Rbv9pT4pp8QNWS8tda%2BJNte6RDq1/pl1bWttNphRNNFnDbFLK0YeRbRSrJAsqyhyzH6D8F%2BD/DXw88HaT4A8GaTFp%2Bj6HpkGn6TYQ52W1tDGscUa55wqKqj6UAadFFFAHL/ABp1Hxxo3wt1rW/hz4hsdL1awszdQ32oeD73xAiRxkPKBp1jPBc3kjRK6pFDIHLsuFc/I3xb8Jf%2BCiPx%2B8SeNND1PxvceEfAngzUp518QeOLz4GeIprbWL%2BHX7rSES5lW%2BjTwzPJa2lr%2B41RpJYHlWN87AlfbfxM8Ga7498JTeHPDfxS1/wbeSSxvFr/AIZisXu4NrAlVW/trmBgwBUh4m4Jxg4I8Vuv%2BCc3hTUPB9x8NtW/aQ%2BJt34Y1zUJr/x5oE1xo4i8YXc9411cTX0q6aLiLzSywtHZy2sQhiSNUUbtwB9E0UUUAFFFFABRRRQAUUUUAFFFFABRRRQAUUUUAFFFFABRRRQAUUUUAFFFFABRRRQAUUUUAFFFFABRRRQAUUUUAFFFFABRRRQAUUUUAFFFFABRRRQAUUUUAFFFFABRRRQAUUUUAFFFFABRRRQAUUUUAFFFFABRRRQAUUUUAFFFFABRRRQAUUUUAFFFFABRRRQAUUUUAFFFFABRRRQAUUUUAFFFFABRRRQAUUUUAFFFFABRRRQAUUUUAFFFFABRRRQAUUUUAFFFFABRRRQAUUUUAFFFFABRRRQAUUUUAFFFFABRRRQAUUUUAFFFFABRRRQAUUUUAf/Z\">"
      ]
     },
     "metadata": {},
     "output_type": "display_data"
    }
   ],
   "source": [
    "s.run(tf.global_variables_initializer())\n",
    "\n",
    "BATCH_SIZE = 512\n",
    "EPOCHS = 40\n",
    "\n",
    "# for logging the progress right here in Jupyter (for those who don't have TensorBoard)\n",
    "simpleTrainingCurves = matplotlib_utils.SimpleTrainingCurves(\"cross-entropy\", \"accuracy\")\n",
    "\n",
    "for epoch in range(EPOCHS):  # we finish an epoch when we've looked at all training samples\n",
    "    \n",
    "    batch_losses = []\n",
    "    for batch_start in range(0, X_train_flat.shape[0], BATCH_SIZE):  # data is already shuffled\n",
    "        _, batch_loss = s.run([step, loss], {input_X: X_train_flat[batch_start:batch_start+BATCH_SIZE], \n",
    "                                             input_y: y_train_oh[batch_start:batch_start+BATCH_SIZE]})\n",
    "        # collect batch losses, this is almost free as we need a forward pass for backprop anyway\n",
    "        batch_losses.append(batch_loss)\n",
    "\n",
    "    train_loss = np.mean(batch_losses)\n",
    "    val_loss = s.run(loss, {input_X: X_val_flat, input_y: y_val_oh})  # this part is usually small\n",
    "    train_accuracy = accuracy_score(y_train, s.run(classes, {input_X: X_train_flat}))  # this is slow and usually skipped\n",
    "    valid_accuracy = accuracy_score(y_val, s.run(classes, {input_X: X_val_flat}))  \n",
    "    simpleTrainingCurves.add(train_loss, val_loss, train_accuracy, valid_accuracy)"
   ]
  },
  {
   "cell_type": "markdown",
   "metadata": {},
   "source": [
    "# Submit a linear model"
   ]
  },
  {
   "cell_type": "code",
   "execution_count": 92,
   "metadata": {
    "collapsed": true
   },
   "outputs": [],
   "source": [
    "## GRADED PART, DO NOT CHANGE!\n",
    "# Testing shapes \n",
    "grader.set_answer(\"9XaAS\", grading_utils.get_tensors_shapes_string([W, b, input_X, input_y, logits, probas, classes]))\n",
    "# Validation loss\n",
    "grader.set_answer(\"vmogZ\", s.run(loss, {input_X: X_val_flat, input_y: y_val_oh}))\n",
    "# Validation accuracy\n",
    "grader.set_answer(\"RMv95\", accuracy_score(y_val, s.run(classes, {input_X: X_val_flat})))"
   ]
  },
  {
   "cell_type": "code",
   "execution_count": 93,
   "metadata": {},
   "outputs": [
    {
     "name": "stdout",
     "output_type": "stream",
     "text": [
      "Submitted to Coursera platform. See results on assignment page!\n"
     ]
    }
   ],
   "source": [
    "# you can make submission with answers so far to check yourself at this stage\n",
    "grader.submit(COURSERA_EMAIL, COURSERA_TOKEN)"
   ]
  },
  {
   "cell_type": "markdown",
   "metadata": {},
   "source": [
    "# MLP with hidden layers"
   ]
  },
  {
   "cell_type": "markdown",
   "metadata": {},
   "source": [
    "Previously we've coded a dense layer with matrix multiplication by hand. \n",
    "But this is not convenient, you have to create a lot of variables and your code becomes a mess. \n",
    "In TensorFlow there's an easier way to make a dense layer:\n",
    "```python\n",
    "hidden1 = tf.layers.dense(inputs, 256, activation=tf.nn.sigmoid)\n",
    "```\n",
    "\n",
    "That will create all the necessary variables automatically.\n",
    "Here you can also choose an activation function (remember that we need it for a hidden layer!).\n",
    "\n",
    "Now define the MLP with 2 hidden layers and restart training with the cell above.\n",
    "\n",
    "You're aiming for ~0.97 validation accuracy here."
   ]
  },
  {
   "cell_type": "code",
   "execution_count": 94,
   "metadata": {
    "collapsed": true
   },
   "outputs": [],
   "source": [
    "# write the code here to get a new `step` operation and then run the cell with training loop above.\n",
    "# name your variables in the same way (e.g. logits, probas, classes, etc) for safety.\n",
    "### YOUR CODE HERE ###\n",
    "input_X = tf.placeholder(tf.float32, shape=(None, X_val_flat.shape[1])) ### tf.placeholder(...) for flat X with shape[0] = None for any batch size\n",
    "input_y = tf.placeholder(tf.float32, shape=(None, y_train_oh.shape[1])) ### tf.placeholder(...) for one-hot encoded true labels\n",
    "\n",
    "# Compute predictions\n",
    "hidden_layer_1 = tf.layers.dense(input_X, 256, activation=tf.nn.sigmoid)\n",
    "hidden_layer_2 = tf.layers.dense(hidden_layer_1, 256, activation=tf.nn.sigmoid)\n",
    "logits = tf.layers.dense(hidden_layer_2, 10) ### YOUR CODE HERE ### logits for input_X, resulting shape should be [input_X.shape[0], 10]\n",
    "probas = tf.nn.softmax(logits) ### YOUR CODE HERE ### apply tf.nn.softmax to logits\n",
    "classes = tf.argmax(probas, axis=1) ### YOUR CODE HERE ### apply tf.argmax to find a class index with highest probability\n",
    "\n",
    "loss = tf.reduce_mean(tf.nn.softmax_cross_entropy_with_logits(labels=input_y, logits=logits)) ### YOUR CODE HERE ### cross-entropy loss\n",
    "\n",
    "# Use a default tf.train.AdamOptimizer to get an SGD step\n",
    "step = tf.train.AdamOptimizer().minimize(loss) ### YOUR CODE HERE ### optimizer step that minimizes the loss"
   ]
  },
  {
   "cell_type": "markdown",
   "metadata": {},
   "source": [
    "# Submit the MLP with 2 hidden layers\n",
    "Run these cells after training the MLP with 2 hidden layers"
   ]
  },
  {
   "cell_type": "code",
   "execution_count": 96,
   "metadata": {
    "collapsed": true
   },
   "outputs": [],
   "source": [
    "## GRADED PART, DO NOT CHANGE!\n",
    "# Validation loss for MLP\n",
    "grader.set_answer(\"i8bgs\", s.run(loss, {input_X: X_val_flat, input_y: y_val_oh}))\n",
    "# Validation accuracy for MLP\n",
    "grader.set_answer(\"rE763\", accuracy_score(y_val, s.run(classes, {input_X: X_val_flat})))"
   ]
  },
  {
   "cell_type": "code",
   "execution_count": 101,
   "metadata": {},
   "outputs": [
    {
     "name": "stdout",
     "output_type": "stream",
     "text": [
      "Submitted to Coursera platform. See results on assignment page!\n"
     ]
    }
   ],
   "source": [
    "# you can make submission with answers so far to check yourself at this stage\n",
    "grader.submit(COURSERA_EMAIL, COURSERA_TOKEN)"
   ]
  },
  {
   "cell_type": "code",
   "execution_count": null,
   "metadata": {
    "collapsed": true
   },
   "outputs": [],
   "source": []
  }
 ],
 "metadata": {
  "kernelspec": {
   "display_name": "Python 3",
   "language": "python",
   "name": "python3"
  },
  "language_info": {
   "codemirror_mode": {
    "name": "ipython",
    "version": 3
   },
   "file_extension": ".py",
   "mimetype": "text/x-python",
   "name": "python",
   "nbconvert_exporter": "python",
   "pygments_lexer": "ipython3",
   "version": "3.6.2"
  }
 },
 "nbformat": 4,
 "nbformat_minor": 1
}
